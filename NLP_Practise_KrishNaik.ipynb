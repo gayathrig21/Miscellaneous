{
  "nbformat": 4,
  "nbformat_minor": 0,
  "metadata": {
    "colab": {
      "provenance": [],
      "authorship_tag": "ABX9TyOXfkCiNmTGtf1bZaYW4tYP",
      "include_colab_link": true
    },
    "kernelspec": {
      "name": "python3",
      "display_name": "Python 3"
    },
    "language_info": {
      "name": "python"
    }
  },
  "cells": [
    {
      "cell_type": "markdown",
      "metadata": {
        "id": "view-in-github",
        "colab_type": "text"
      },
      "source": [
        "<a href=\"https://colab.research.google.com/github/gayathrig21/Miscellaneous/blob/main/NLP_Practise_KrishNaik.ipynb\" target=\"_parent\"><img src=\"https://colab.research.google.com/assets/colab-badge.svg\" alt=\"Open In Colab\"/></a>"
      ]
    },
    {
      "cell_type": "markdown",
      "source": [
        "https://www.youtube.com/watch?v=VO6PeW6AePs&list=PLZoTAELRMXVNNrHSKv36Lr3_156yCo6Nn&index=5&t=386s"
      ],
      "metadata": {
        "id": "m9ymfcTRa1kT"
      }
    },
    {
      "cell_type": "code",
      "execution_count": 1,
      "metadata": {
        "colab": {
          "base_uri": "https://localhost:8080/"
        },
        "id": "gqv_crDqTgIP",
        "outputId": "d9bee63d-fcaa-4b66-8821-97ed4d1cf83b"
      },
      "outputs": [
        {
          "output_type": "stream",
          "name": "stdout",
          "text": [
            "Requirement already satisfied: nltk in /usr/local/lib/python3.10/dist-packages (3.8.1)\n",
            "Requirement already satisfied: click in /usr/local/lib/python3.10/dist-packages (from nltk) (8.1.6)\n",
            "Requirement already satisfied: joblib in /usr/local/lib/python3.10/dist-packages (from nltk) (1.3.1)\n",
            "Requirement already satisfied: regex>=2021.8.3 in /usr/local/lib/python3.10/dist-packages (from nltk) (2022.10.31)\n",
            "Requirement already satisfied: tqdm in /usr/local/lib/python3.10/dist-packages (from nltk) (4.65.0)\n"
          ]
        }
      ],
      "source": [
        "!pip install nltk\n"
      ]
    },
    {
      "cell_type": "code",
      "source": [
        "corpus=\"\"\"\n",
        "Narendra Damodardas Modi (Gujarati: [ˈnəɾendɾə dɑmodəɾˈdɑs ˈmodiː] (listen); born 17 September 1950)[b] is an Indian politician who has served as the 14th Prime Minister of India since May 2014. Modi was the Chief Minister of Gujarat from 2001 to 2014 and is the Member of Parliament (MP) for Varanasi. He is a member of the Bharatiya Janata Party (BJP) and of the Rashtriya Swayamsevak Sangh (RSS), a right-wing Hindu nationalist paramilitary volunteer organisation. He is the longest-serving prime minister from outside the Indian National Congress.\n",
        "\n",
        "Modi was born and raised in Vadnagar in northeastern Gujarat, where he completed his secondary education. He was introduced to the RSS at age eight. His account of helping his father sell tea at the Vadnagar railway station has not been reliably corroborated. At age 18, he was married to Jashodaben Modi, whom he abandoned soon after, only publicly acknowledging her four decades later when legally required to do so. Modi became a full-time worker for the RSS in Gujarat in 1971. The RSS assigned him to the BJP in 1985 and he held several positions within the party hierarchy until 2001, rising to the rank of general secretary.[c]\"\"\""
      ],
      "metadata": {
        "id": "wZ7KyeoSTntw"
      },
      "execution_count": 2,
      "outputs": []
    },
    {
      "cell_type": "code",
      "source": [
        "corpus"
      ],
      "metadata": {
        "colab": {
          "base_uri": "https://localhost:8080/",
          "height": 105
        },
        "id": "DgBuay6kUVRn",
        "outputId": "a73c8ce6-e1ee-4406-db82-d970a763bf25"
      },
      "execution_count": 3,
      "outputs": [
        {
          "output_type": "execute_result",
          "data": {
            "text/plain": [
              "'\\nNarendra Damodardas Modi (Gujarati: [ˈnəɾendɾə dɑmodəɾˈdɑs ˈmodiː] (listen); born 17 September 1950)[b] is an Indian politician who has served as the 14th Prime Minister of India since May 2014. Modi was the Chief Minister of Gujarat from 2001 to 2014 and is the Member of Parliament (MP) for Varanasi. He is a member of the Bharatiya Janata Party (BJP) and of the Rashtriya Swayamsevak Sangh (RSS), a right-wing Hindu nationalist paramilitary volunteer organisation. He is the longest-serving prime minister from outside the Indian National Congress.\\n\\nModi was born and raised in Vadnagar in northeastern Gujarat, where he completed his secondary education. He was introduced to the RSS at age eight. His account of helping his father sell tea at the Vadnagar railway station has not been reliably corroborated. At age 18, he was married to Jashodaben Modi, whom he abandoned soon after, only publicly acknowledging her four decades later when legally required to do so. Modi became a full-time worker for the RSS in Gujarat in 1971. The RSS assigned him to the BJP in 1985 and he held several positions within the party hierarchy until 2001, rising to the rank of general secretary.[c]'"
            ],
            "application/vnd.google.colaboratory.intrinsic+json": {
              "type": "string"
            }
          },
          "metadata": {},
          "execution_count": 3
        }
      ]
    },
    {
      "cell_type": "code",
      "source": [
        "import nltk\n",
        "nltk.download('wordnet')\n",
        "nltk.download('stopwords')\n",
        "from nltk.stem import PorterStemmer , WordNetLemmatizer\n",
        "from nltk.corpus import stopwords"
      ],
      "metadata": {
        "colab": {
          "base_uri": "https://localhost:8080/"
        },
        "id": "mvPZRTB0Uk9i",
        "outputId": "f1605370-a165-4baf-9461-c0f8dc6da2ba"
      },
      "execution_count": 4,
      "outputs": [
        {
          "output_type": "stream",
          "name": "stderr",
          "text": [
            "[nltk_data] Downloading package wordnet to /root/nltk_data...\n",
            "[nltk_data] Downloading package stopwords to /root/nltk_data...\n",
            "[nltk_data]   Unzipping corpora/stopwords.zip.\n"
          ]
        }
      ]
    },
    {
      "cell_type": "code",
      "source": [
        "## tokenization - converts paragraph to words\n",
        "nltk.download('punkt')\n",
        "sentences = nltk.sent_tokenize(corpus)"
      ],
      "metadata": {
        "colab": {
          "base_uri": "https://localhost:8080/"
        },
        "id": "RZ0gGZ6tU23z",
        "outputId": "fb98f7c8-e492-472f-fa47-382abf594dda"
      },
      "execution_count": 5,
      "outputs": [
        {
          "output_type": "stream",
          "name": "stderr",
          "text": [
            "[nltk_data] Downloading package punkt to /root/nltk_data...\n",
            "[nltk_data]   Unzipping tokenizers/punkt.zip.\n"
          ]
        }
      ]
    },
    {
      "cell_type": "code",
      "source": [
        "sentences[0]"
      ],
      "metadata": {
        "colab": {
          "base_uri": "https://localhost:8080/",
          "height": 35
        },
        "id": "f6ea6EX6VNn6",
        "outputId": "75ca70d4-b87e-469b-f160-8f55d858cc07"
      },
      "execution_count": 6,
      "outputs": [
        {
          "output_type": "execute_result",
          "data": {
            "text/plain": [
              "'\\nNarendra Damodardas Modi (Gujarati: [ˈnəɾendɾə dɑmodəɾˈdɑs ˈmodiː] (listen); born 17 September 1950)[b] is an Indian politician who has served as the 14th Prime Minister of India since May 2014.'"
            ],
            "application/vnd.google.colaboratory.intrinsic+json": {
              "type": "string"
            }
          },
          "metadata": {},
          "execution_count": 6
        }
      ]
    },
    {
      "cell_type": "code",
      "source": [
        "stemmer= PorterStemmer()"
      ],
      "metadata": {
        "id": "ioo_nMZ8VYLM"
      },
      "execution_count": 7,
      "outputs": []
    },
    {
      "cell_type": "code",
      "source": [
        "stemmer.stem('thinking')"
      ],
      "metadata": {
        "colab": {
          "base_uri": "https://localhost:8080/",
          "height": 35
        },
        "id": "jXuwZ0GoVfDX",
        "outputId": "cbfae09d-efa4-479f-a165-fd3d60da4a70"
      },
      "execution_count": 8,
      "outputs": [
        {
          "output_type": "execute_result",
          "data": {
            "text/plain": [
              "'think'"
            ],
            "application/vnd.google.colaboratory.intrinsic+json": {
              "type": "string"
            }
          },
          "metadata": {},
          "execution_count": 8
        }
      ]
    },
    {
      "cell_type": "code",
      "source": [
        "stemmer.stem('history')"
      ],
      "metadata": {
        "colab": {
          "base_uri": "https://localhost:8080/",
          "height": 35
        },
        "id": "gNg2L1_QWb4m",
        "outputId": "bf289f4a-8f6b-4bbd-e3d4-72b133fa41cc"
      },
      "execution_count": 9,
      "outputs": [
        {
          "output_type": "execute_result",
          "data": {
            "text/plain": [
              "'histori'"
            ],
            "application/vnd.google.colaboratory.intrinsic+json": {
              "type": "string"
            }
          },
          "metadata": {},
          "execution_count": 9
        }
      ]
    },
    {
      "cell_type": "code",
      "source": [
        "stemmer.stem('goes')"
      ],
      "metadata": {
        "colab": {
          "base_uri": "https://localhost:8080/",
          "height": 35
        },
        "id": "HVHg_PPjWrXO",
        "outputId": "53465481-1257-4e62-c0da-8cf407a172a4"
      },
      "execution_count": 10,
      "outputs": [
        {
          "output_type": "execute_result",
          "data": {
            "text/plain": [
              "'goe'"
            ],
            "application/vnd.google.colaboratory.intrinsic+json": {
              "type": "string"
            }
          },
          "metadata": {},
          "execution_count": 10
        }
      ]
    },
    {
      "cell_type": "code",
      "source": [
        "lemmatizer= WordNetLemmatizer()"
      ],
      "metadata": {
        "id": "Yj6ZsKLOVi-x"
      },
      "execution_count": 11,
      "outputs": []
    },
    {
      "cell_type": "code",
      "source": [
        "lemmatizer.lemmatize('going')"
      ],
      "metadata": {
        "colab": {
          "base_uri": "https://localhost:8080/",
          "height": 35
        },
        "id": "VTFa3yq0V4XA",
        "outputId": "9f0f6307-f12e-4c18-d18e-cf2394fec5d3"
      },
      "execution_count": 12,
      "outputs": [
        {
          "output_type": "execute_result",
          "data": {
            "text/plain": [
              "'going'"
            ],
            "application/vnd.google.colaboratory.intrinsic+json": {
              "type": "string"
            }
          },
          "metadata": {},
          "execution_count": 12
        }
      ]
    },
    {
      "cell_type": "code",
      "source": [
        "lemmatizer.lemmatize('goes')"
      ],
      "metadata": {
        "colab": {
          "base_uri": "https://localhost:8080/",
          "height": 35
        },
        "id": "u3ZJLmz3Wno2",
        "outputId": "9b299866-3fe8-44cf-9d19-733479e17e80"
      },
      "execution_count": 13,
      "outputs": [
        {
          "output_type": "execute_result",
          "data": {
            "text/plain": [
              "'go'"
            ],
            "application/vnd.google.colaboratory.intrinsic+json": {
              "type": "string"
            }
          },
          "metadata": {},
          "execution_count": 13
        }
      ]
    },
    {
      "cell_type": "code",
      "source": [
        "lemmatizer.lemmatize('historical')"
      ],
      "metadata": {
        "colab": {
          "base_uri": "https://localhost:8080/",
          "height": 35
        },
        "id": "GgLApwTIVSKA",
        "outputId": "e788e852-7a40-49ae-bbb3-2259865e1f69"
      },
      "execution_count": 14,
      "outputs": [
        {
          "output_type": "execute_result",
          "data": {
            "text/plain": [
              "'historical'"
            ],
            "application/vnd.google.colaboratory.intrinsic+json": {
              "type": "string"
            }
          },
          "metadata": {},
          "execution_count": 14
        }
      ]
    },
    {
      "cell_type": "code",
      "source": [
        "len(sentences)"
      ],
      "metadata": {
        "colab": {
          "base_uri": "https://localhost:8080/"
        },
        "id": "7JtRHU7FWt3Q",
        "outputId": "c390c89f-5efc-4bc5-ce06-eb6afa511918"
      },
      "execution_count": 15,
      "outputs": [
        {
          "output_type": "execute_result",
          "data": {
            "text/plain": [
              "11"
            ]
          },
          "metadata": {},
          "execution_count": 15
        }
      ]
    },
    {
      "cell_type": "code",
      "source": [
        "import re"
      ],
      "metadata": {
        "id": "xqrVlBM6WyCk"
      },
      "execution_count": 16,
      "outputs": []
    },
    {
      "cell_type": "code",
      "source": [
        "corpus=[]\n",
        "for i in range(len(sentences)):\n",
        "  review= re.sub('[^a-zA-Z]',' ',sentences[i])\n",
        "  review = review.lower()\n",
        "  corpus.append(review)"
      ],
      "metadata": {
        "id": "6teCXTAuW0DD"
      },
      "execution_count": 17,
      "outputs": []
    },
    {
      "cell_type": "code",
      "source": [
        "corpus"
      ],
      "metadata": {
        "colab": {
          "base_uri": "https://localhost:8080/"
        },
        "id": "hWdMfeumXPXl",
        "outputId": "61bcf203-c6b8-4368-c348-baecb33cdf1f"
      },
      "execution_count": 18,
      "outputs": [
        {
          "output_type": "execute_result",
          "data": {
            "text/plain": [
              "[' narendra damodardas modi  gujarati    n  end   d mod   d s  modi    listen   born    september       b  is an indian politician who has served as the   th prime minister of india since may      ',\n",
              " 'modi was the chief minister of gujarat from      to      and is the member of parliament  mp  for varanasi ',\n",
              " 'he is a member of the bharatiya janata party  bjp  and of the rashtriya swayamsevak sangh  rss   a right wing hindu nationalist paramilitary volunteer organisation ',\n",
              " 'he is the longest serving prime minister from outside the indian national congress ',\n",
              " 'modi was born and raised in vadnagar in northeastern gujarat  where he completed his secondary education ',\n",
              " 'he was introduced to the rss at age eight ',\n",
              " 'his account of helping his father sell tea at the vadnagar railway station has not been reliably corroborated ',\n",
              " 'at age     he was married to jashodaben modi  whom he abandoned soon after  only publicly acknowledging her four decades later when legally required to do so ',\n",
              " 'modi became a full time worker for the rss in gujarat in      ',\n",
              " 'the rss assigned him to the bjp in      and he held several positions within the party hierarchy until       rising to the rank of general secretary ',\n",
              " ' c ']"
            ]
          },
          "metadata": {},
          "execution_count": 18
        }
      ]
    },
    {
      "cell_type": "code",
      "source": [
        "for i in corpus:\n",
        "  words=nltk.word_tokenize(i)\n",
        "  print(len(words))\n",
        "  for word in words:\n",
        "    if word not in set(stopwords.words('english')):\n",
        "      print(stemmer.stem(word))"
      ],
      "metadata": {
        "colab": {
          "base_uri": "https://localhost:8080/"
        },
        "id": "-dcQaR1EXdOt",
        "outputId": "1556a441-1a19-475a-996d-95fac45ce76e"
      },
      "execution_count": 19,
      "outputs": [
        {
          "output_type": "stream",
          "name": "stdout",
          "text": [
            "31\n",
            "narendra\n",
            "damodarda\n",
            "modi\n",
            "gujarati\n",
            "n\n",
            "end\n",
            "mod\n",
            "modi\n",
            "listen\n",
            "born\n",
            "septemb\n",
            "b\n",
            "indian\n",
            "politician\n",
            "serv\n",
            "th\n",
            "prime\n",
            "minist\n",
            "india\n",
            "sinc\n",
            "may\n",
            "18\n",
            "modi\n",
            "chief\n",
            "minist\n",
            "gujarat\n",
            "member\n",
            "parliament\n",
            "mp\n",
            "varanasi\n",
            "25\n",
            "member\n",
            "bharatiya\n",
            "janata\n",
            "parti\n",
            "bjp\n",
            "rashtriya\n",
            "swayamsevak\n",
            "sangh\n",
            "rss\n",
            "right\n",
            "wing\n",
            "hindu\n",
            "nationalist\n",
            "paramilitari\n",
            "volunt\n",
            "organis\n",
            "13\n",
            "longest\n",
            "serv\n",
            "prime\n",
            "minist\n",
            "outsid\n",
            "indian\n",
            "nation\n",
            "congress\n",
            "16\n",
            "modi\n",
            "born\n",
            "rais\n",
            "vadnagar\n",
            "northeastern\n",
            "gujarat\n",
            "complet\n",
            "secondari\n",
            "educ\n",
            "9\n",
            "introduc\n",
            "rss\n",
            "age\n",
            "eight\n",
            "18\n",
            "account\n",
            "help\n",
            "father\n",
            "sell\n",
            "tea\n",
            "vadnagar\n",
            "railway\n",
            "station\n",
            "reliabl\n",
            "corrobor\n",
            "26\n",
            "age\n",
            "marri\n",
            "jashodaben\n",
            "modi\n",
            "abandon\n",
            "soon\n",
            "publicli\n",
            "acknowledg\n",
            "four\n",
            "decad\n",
            "later\n",
            "legal\n",
            "requir\n",
            "12\n",
            "modi\n",
            "becam\n",
            "full\n",
            "time\n",
            "worker\n",
            "rss\n",
            "gujarat\n",
            "25\n",
            "rss\n",
            "assign\n",
            "bjp\n",
            "held\n",
            "sever\n",
            "posit\n",
            "within\n",
            "parti\n",
            "hierarchi\n",
            "rise\n",
            "rank\n",
            "gener\n",
            "secretari\n",
            "1\n",
            "c\n"
          ]
        }
      ]
    },
    {
      "cell_type": "code",
      "source": [
        "for i in corpus:\n",
        "  words=nltk.word_tokenize(i)\n",
        "  print(len(words))\n",
        "  for word in words:\n",
        "    if word not in set(stopwords.words('english')):\n",
        "      print(lemmatizer.lemmatize(word))"
      ],
      "metadata": {
        "colab": {
          "base_uri": "https://localhost:8080/"
        },
        "id": "d9QKjGuEZEwa",
        "outputId": "e40cf5cc-f93b-410f-8303-ee4aa4b87a39"
      },
      "execution_count": 20,
      "outputs": [
        {
          "output_type": "stream",
          "name": "stdout",
          "text": [
            "31\n",
            "narendra\n",
            "damodardas\n",
            "modi\n",
            "gujarati\n",
            "n\n",
            "end\n",
            "mod\n",
            "modi\n",
            "listen\n",
            "born\n",
            "september\n",
            "b\n",
            "indian\n",
            "politician\n",
            "served\n",
            "th\n",
            "prime\n",
            "minister\n",
            "india\n",
            "since\n",
            "may\n",
            "18\n",
            "modi\n",
            "chief\n",
            "minister\n",
            "gujarat\n",
            "member\n",
            "parliament\n",
            "mp\n",
            "varanasi\n",
            "25\n",
            "member\n",
            "bharatiya\n",
            "janata\n",
            "party\n",
            "bjp\n",
            "rashtriya\n",
            "swayamsevak\n",
            "sangh\n",
            "r\n",
            "right\n",
            "wing\n",
            "hindu\n",
            "nationalist\n",
            "paramilitary\n",
            "volunteer\n",
            "organisation\n",
            "13\n",
            "longest\n",
            "serving\n",
            "prime\n",
            "minister\n",
            "outside\n",
            "indian\n",
            "national\n",
            "congress\n",
            "16\n",
            "modi\n",
            "born\n",
            "raised\n",
            "vadnagar\n",
            "northeastern\n",
            "gujarat\n",
            "completed\n",
            "secondary\n",
            "education\n",
            "9\n",
            "introduced\n",
            "r\n",
            "age\n",
            "eight\n",
            "18\n",
            "account\n",
            "helping\n",
            "father\n",
            "sell\n",
            "tea\n",
            "vadnagar\n",
            "railway\n",
            "station\n",
            "reliably\n",
            "corroborated\n",
            "26\n",
            "age\n",
            "married\n",
            "jashodaben\n",
            "modi\n",
            "abandoned\n",
            "soon\n",
            "publicly\n",
            "acknowledging\n",
            "four\n",
            "decade\n",
            "later\n",
            "legally\n",
            "required\n",
            "12\n",
            "modi\n",
            "became\n",
            "full\n",
            "time\n",
            "worker\n",
            "r\n",
            "gujarat\n",
            "25\n",
            "r\n",
            "assigned\n",
            "bjp\n",
            "held\n",
            "several\n",
            "position\n",
            "within\n",
            "party\n",
            "hierarchy\n",
            "rising\n",
            "rank\n",
            "general\n",
            "secretary\n",
            "1\n",
            "c\n"
          ]
        }
      ]
    },
    {
      "cell_type": "code",
      "source": [
        "from sklearn.feature_extraction.text import CountVectorizer\n",
        "cv=CountVectorizer()"
      ],
      "metadata": {
        "id": "beO7Mqr9ZTEb"
      },
      "execution_count": 21,
      "outputs": []
    },
    {
      "cell_type": "code",
      "source": [
        "X=cv.fit_transform(corpus)\n",
        "cv.vocabulary_"
      ],
      "metadata": {
        "colab": {
          "base_uri": "https://localhost:8080/"
        },
        "id": "h3_HFWurZssU",
        "outputId": "23db3a6a-028d-4b69-8deb-610ac20e8397"
      },
      "execution_count": 22,
      "outputs": [
        {
          "output_type": "execute_result",
          "data": {
            "text/plain": [
              "{'narendra': 60,\n",
              " 'damodardas': 19,\n",
              " 'modi': 58,\n",
              " 'gujarati': 32,\n",
              " 'end': 24,\n",
              " 'mod': 57,\n",
              " 'listen': 51,\n",
              " 'born': 14,\n",
              " 'september': 89,\n",
              " 'is': 46,\n",
              " 'an': 5,\n",
              " 'indian': 44,\n",
              " 'politician': 72,\n",
              " 'who': 110,\n",
              " 'has': 33,\n",
              " 'served': 90,\n",
              " 'as': 7,\n",
              " 'the': 100,\n",
              " 'th': 99,\n",
              " 'prime': 74,\n",
              " 'minister': 56,\n",
              " 'of': 65,\n",
              " 'india': 43,\n",
              " 'since': 93,\n",
              " 'may': 54,\n",
              " 'was': 107,\n",
              " 'chief': 15,\n",
              " 'gujarat': 31,\n",
              " 'from': 28,\n",
              " 'to': 102,\n",
              " 'and': 6,\n",
              " 'member': 55,\n",
              " 'parliament': 70,\n",
              " 'mp': 59,\n",
              " 'for': 26,\n",
              " 'varanasi': 105,\n",
              " 'he': 34,\n",
              " 'bharatiya': 12,\n",
              " 'janata': 47,\n",
              " 'party': 71,\n",
              " 'bjp': 13,\n",
              " 'rashtriya': 79,\n",
              " 'swayamsevak': 97,\n",
              " 'sangh': 85,\n",
              " 'rss': 84,\n",
              " 'right': 82,\n",
              " 'wing': 112,\n",
              " 'hindu': 40,\n",
              " 'nationalist': 62,\n",
              " 'paramilitary': 69,\n",
              " 'volunteer': 106,\n",
              " 'organisation': 67,\n",
              " 'longest': 52,\n",
              " 'serving': 91,\n",
              " 'outside': 68,\n",
              " 'national': 61,\n",
              " 'congress': 17,\n",
              " 'raised': 77,\n",
              " 'in': 42,\n",
              " 'vadnagar': 104,\n",
              " 'northeastern': 63,\n",
              " 'where': 109,\n",
              " 'completed': 16,\n",
              " 'his': 41,\n",
              " 'secondary': 86,\n",
              " 'education': 22,\n",
              " 'introduced': 45,\n",
              " 'at': 9,\n",
              " 'age': 4,\n",
              " 'eight': 23,\n",
              " 'account': 1,\n",
              " 'helping': 36,\n",
              " 'father': 25,\n",
              " 'sell': 88,\n",
              " 'tea': 98,\n",
              " 'railway': 76,\n",
              " 'station': 96,\n",
              " 'not': 64,\n",
              " 'been': 11,\n",
              " 'reliably': 80,\n",
              " 'corroborated': 18,\n",
              " 'married': 53,\n",
              " 'jashodaben': 48,\n",
              " 'whom': 111,\n",
              " 'abandoned': 0,\n",
              " 'soon': 95,\n",
              " 'after': 3,\n",
              " 'only': 66,\n",
              " 'publicly': 75,\n",
              " 'acknowledging': 2,\n",
              " 'her': 37,\n",
              " 'four': 27,\n",
              " 'decades': 20,\n",
              " 'later': 49,\n",
              " 'when': 108,\n",
              " 'legally': 50,\n",
              " 'required': 81,\n",
              " 'do': 21,\n",
              " 'so': 94,\n",
              " 'became': 10,\n",
              " 'full': 29,\n",
              " 'time': 101,\n",
              " 'worker': 114,\n",
              " 'assigned': 8,\n",
              " 'him': 39,\n",
              " 'held': 35,\n",
              " 'several': 92,\n",
              " 'positions': 73,\n",
              " 'within': 113,\n",
              " 'hierarchy': 38,\n",
              " 'until': 103,\n",
              " 'rising': 83,\n",
              " 'rank': 78,\n",
              " 'general': 30,\n",
              " 'secretary': 87}"
            ]
          },
          "metadata": {},
          "execution_count": 22
        }
      ]
    },
    {
      "cell_type": "code",
      "source": [
        "corpus[0]"
      ],
      "metadata": {
        "colab": {
          "base_uri": "https://localhost:8080/",
          "height": 35
        },
        "id": "_76suV2WaDwW",
        "outputId": "b6deacaa-45bd-4628-ec37-c0257708a41f"
      },
      "execution_count": 23,
      "outputs": [
        {
          "output_type": "execute_result",
          "data": {
            "text/plain": [
              "' narendra damodardas modi  gujarati    n  end   d mod   d s  modi    listen   born    september       b  is an indian politician who has served as the   th prime minister of india since may      '"
            ],
            "application/vnd.google.colaboratory.intrinsic+json": {
              "type": "string"
            }
          },
          "metadata": {},
          "execution_count": 23
        }
      ]
    },
    {
      "cell_type": "code",
      "source": [
        "  X[0].toarray()"
      ],
      "metadata": {
        "colab": {
          "base_uri": "https://localhost:8080/"
        },
        "id": "Dgi05tsXaGTy",
        "outputId": "a34c1371-86e2-45c5-a0f0-66e3b976c9d4"
      },
      "execution_count": 24,
      "outputs": [
        {
          "output_type": "execute_result",
          "data": {
            "text/plain": [
              "array([[0, 0, 0, 0, 0, 1, 0, 1, 0, 0, 0, 0, 0, 0, 1, 0, 0, 0, 0, 1, 0, 0,\n",
              "        0, 0, 1, 0, 0, 0, 0, 0, 0, 0, 1, 1, 0, 0, 0, 0, 0, 0, 0, 0, 0, 1,\n",
              "        1, 0, 1, 0, 0, 0, 0, 1, 0, 0, 1, 0, 1, 1, 2, 0, 1, 0, 0, 0, 0, 1,\n",
              "        0, 0, 0, 0, 0, 0, 1, 0, 1, 0, 0, 0, 0, 0, 0, 0, 0, 0, 0, 0, 0, 0,\n",
              "        0, 1, 1, 0, 0, 1, 0, 0, 0, 0, 0, 1, 1, 0, 0, 0, 0, 0, 0, 0, 0, 0,\n",
              "        1, 0, 0, 0, 0]])"
            ]
          },
          "metadata": {},
          "execution_count": 24
        }
      ]
    },
    {
      "cell_type": "code",
      "source": [
        "from sklearn.feature_extraction.text import CountVectorizer\n",
        "cv=CountVectorizer(ngram_range=(3,3))"
      ],
      "metadata": {
        "id": "UdmYG9qNg8pu"
      },
      "execution_count": 25,
      "outputs": []
    },
    {
      "cell_type": "code",
      "source": [
        "X=cv.fit_transform(corpus)\n",
        "cv.vocabulary_"
      ],
      "metadata": {
        "colab": {
          "base_uri": "https://localhost:8080/"
        },
        "id": "XTpq58ZlhFZE",
        "outputId": "65c0037f-1c4d-4bb4-a46d-e17dcdfa0e98"
      },
      "execution_count": 26,
      "outputs": [
        {
          "output_type": "execute_result",
          "data": {
            "text/plain": [
              "{'narendra damodardas modi': 86,\n",
              " 'damodardas modi gujarati': 24,\n",
              " 'modi gujarati end': 80,\n",
              " 'gujarati end mod': 35,\n",
              " 'end mod modi': 26,\n",
              " 'mod modi listen': 78,\n",
              " 'modi listen born': 81,\n",
              " 'listen born september': 70,\n",
              " 'born september is': 21,\n",
              " 'september is an': 121,\n",
              " 'is an indian': 62,\n",
              " 'an indian politician': 5,\n",
              " 'indian politician who': 60,\n",
              " 'politician who has': 103,\n",
              " 'who has served': 160,\n",
              " 'has served as': 37,\n",
              " 'served as the': 122,\n",
              " 'as the th': 10,\n",
              " 'the th prime': 142,\n",
              " 'th prime minister': 129,\n",
              " 'prime minister of': 106,\n",
              " 'minister of india': 77,\n",
              " 'of india since': 93,\n",
              " 'india since may': 58,\n",
              " 'modi was the': 83,\n",
              " 'was the chief': 157,\n",
              " 'the chief minister': 132,\n",
              " 'chief minister of': 22,\n",
              " 'minister of gujarat': 76,\n",
              " 'of gujarat from': 91,\n",
              " 'gujarat from to': 33,\n",
              " 'from to and': 31,\n",
              " 'to and is': 145,\n",
              " 'and is the': 7,\n",
              " 'is the member': 65,\n",
              " 'the member of': 135,\n",
              " 'member of parliament': 73,\n",
              " 'of parliament mp': 94,\n",
              " 'parliament mp for': 100,\n",
              " 'mp for varanasi': 85,\n",
              " 'he is member': 41,\n",
              " 'is member of': 63,\n",
              " 'member of the': 74,\n",
              " 'of the bharatiya': 95,\n",
              " 'the bharatiya janata': 130,\n",
              " 'bharatiya janata party': 17,\n",
              " 'janata party bjp': 66,\n",
              " 'party bjp and': 101,\n",
              " 'bjp and of': 18,\n",
              " 'and of the': 8,\n",
              " 'of the rashtriya': 96,\n",
              " 'the rashtriya swayamsevak': 138,\n",
              " 'rashtriya swayamsevak sangh': 111,\n",
              " 'swayamsevak sangh rss': 127,\n",
              " 'sangh rss right': 119,\n",
              " 'rss right wing': 118,\n",
              " 'right wing hindu': 113,\n",
              " 'wing hindu nationalist': 162,\n",
              " 'hindu nationalist paramilitary': 50,\n",
              " 'nationalist paramilitary volunteer': 87,\n",
              " 'paramilitary volunteer organisation': 99,\n",
              " 'he is the': 42,\n",
              " 'is the longest': 64,\n",
              " 'the longest serving': 134,\n",
              " 'longest serving prime': 71,\n",
              " 'serving prime minister': 123,\n",
              " 'prime minister from': 105,\n",
              " 'minister from outside': 75,\n",
              " 'from outside the': 30,\n",
              " 'outside the indian': 98,\n",
              " 'the indian national': 133,\n",
              " 'indian national congress': 59,\n",
              " 'modi was born': 82,\n",
              " 'was born and': 154,\n",
              " 'born and raised': 20,\n",
              " 'and raised in': 9,\n",
              " 'raised in vadnagar': 109,\n",
              " 'in vadnagar in': 57,\n",
              " 'vadnagar in northeastern': 152,\n",
              " 'in northeastern gujarat': 56,\n",
              " 'northeastern gujarat where': 88,\n",
              " 'gujarat where he': 34,\n",
              " 'where he completed': 159,\n",
              " 'he completed his': 39,\n",
              " 'completed his secondary': 23,\n",
              " 'his secondary education': 53,\n",
              " 'he was introduced': 43,\n",
              " 'was introduced to': 155,\n",
              " 'introduced to the': 61,\n",
              " 'to the rss': 150,\n",
              " 'the rss at': 140,\n",
              " 'rss at age': 116,\n",
              " 'at age eight': 12,\n",
              " 'his account of': 51,\n",
              " 'account of helping': 1,\n",
              " 'of helping his': 92,\n",
              " 'helping his father': 46,\n",
              " 'his father sell': 52,\n",
              " 'father sell tea': 27,\n",
              " 'sell tea at': 120,\n",
              " 'tea at the': 128,\n",
              " 'at the vadnagar': 14,\n",
              " 'the vadnagar railway': 143,\n",
              " 'vadnagar railway station': 153,\n",
              " 'railway station has': 108,\n",
              " 'station has not': 126,\n",
              " 'has not been': 36,\n",
              " 'not been reliably': 89,\n",
              " 'been reliably corroborated': 16,\n",
              " 'at age he': 13,\n",
              " 'age he was': 4,\n",
              " 'he was married': 44,\n",
              " 'was married to': 156,\n",
              " 'married to jashodaben': 72,\n",
              " 'to jashodaben modi': 147,\n",
              " 'jashodaben modi whom': 67,\n",
              " 'modi whom he': 84,\n",
              " 'whom he abandoned': 161,\n",
              " 'he abandoned soon': 38,\n",
              " 'abandoned soon after': 0,\n",
              " 'soon after only': 125,\n",
              " 'after only publicly': 3,\n",
              " 'only publicly acknowledging': 97,\n",
              " 'publicly acknowledging her': 107,\n",
              " 'acknowledging her four': 2,\n",
              " 'her four decades': 47,\n",
              " 'four decades later': 29,\n",
              " 'decades later when': 25,\n",
              " 'later when legally': 68,\n",
              " 'when legally required': 158,\n",
              " 'legally required to': 69,\n",
              " 'required to do': 112,\n",
              " 'to do so': 146,\n",
              " 'modi became full': 79,\n",
              " 'became full time': 15,\n",
              " 'full time worker': 32,\n",
              " 'time worker for': 144,\n",
              " 'worker for the': 164,\n",
              " 'for the rss': 28,\n",
              " 'the rss in': 141,\n",
              " 'rss in gujarat': 117,\n",
              " 'in gujarat in': 55,\n",
              " 'the rss assigned': 139,\n",
              " 'rss assigned him': 115,\n",
              " 'assigned him to': 11,\n",
              " 'him to the': 49,\n",
              " 'to the bjp': 148,\n",
              " 'the bjp in': 131,\n",
              " 'bjp in and': 19,\n",
              " 'in and he': 54,\n",
              " 'and he held': 6,\n",
              " 'he held several': 40,\n",
              " 'held several positions': 45,\n",
              " 'several positions within': 124,\n",
              " 'positions within the': 104,\n",
              " 'within the party': 163,\n",
              " 'the party hierarchy': 136,\n",
              " 'party hierarchy until': 102,\n",
              " 'hierarchy until rising': 48,\n",
              " 'until rising to': 151,\n",
              " 'rising to the': 114,\n",
              " 'to the rank': 149,\n",
              " 'the rank of': 137,\n",
              " 'rank of general': 110,\n",
              " 'of general secretary': 90}"
            ]
          },
          "metadata": {},
          "execution_count": 26
        }
      ]
    },
    {
      "cell_type": "code",
      "source": [
        "corpus[0]"
      ],
      "metadata": {
        "colab": {
          "base_uri": "https://localhost:8080/",
          "height": 35
        },
        "id": "0F6Yg0pghlmz",
        "outputId": "8bc318e3-5a1e-489b-f830-e42b80ee2755"
      },
      "execution_count": 27,
      "outputs": [
        {
          "output_type": "execute_result",
          "data": {
            "text/plain": [
              "' narendra damodardas modi  gujarati    n  end   d mod   d s  modi    listen   born    september       b  is an indian politician who has served as the   th prime minister of india since may      '"
            ],
            "application/vnd.google.colaboratory.intrinsic+json": {
              "type": "string"
            }
          },
          "metadata": {},
          "execution_count": 27
        }
      ]
    },
    {
      "cell_type": "code",
      "source": [
        "X[0].toarray()"
      ],
      "metadata": {
        "colab": {
          "base_uri": "https://localhost:8080/"
        },
        "id": "3ybrcyg_hng2",
        "outputId": "e4c76b86-91c5-40cd-9f9b-9e638a1bf611"
      },
      "execution_count": 28,
      "outputs": [
        {
          "output_type": "execute_result",
          "data": {
            "text/plain": [
              "array([[0, 0, 0, 0, 0, 1, 0, 0, 0, 0, 1, 0, 0, 0, 0, 0, 0, 0, 0, 0, 0, 1,\n",
              "        0, 0, 1, 0, 1, 0, 0, 0, 0, 0, 0, 0, 0, 1, 0, 1, 0, 0, 0, 0, 0, 0,\n",
              "        0, 0, 0, 0, 0, 0, 0, 0, 0, 0, 0, 0, 0, 0, 1, 0, 1, 0, 1, 0, 0, 0,\n",
              "        0, 0, 0, 0, 1, 0, 0, 0, 0, 0, 0, 1, 1, 0, 1, 1, 0, 0, 0, 0, 1, 0,\n",
              "        0, 0, 0, 0, 0, 1, 0, 0, 0, 0, 0, 0, 0, 0, 0, 1, 0, 0, 1, 0, 0, 0,\n",
              "        0, 0, 0, 0, 0, 0, 0, 0, 0, 0, 0, 1, 1, 0, 0, 0, 0, 0, 0, 1, 0, 0,\n",
              "        0, 0, 0, 0, 0, 0, 0, 0, 0, 0, 1, 0, 0, 0, 0, 0, 0, 0, 0, 0, 0, 0,\n",
              "        0, 0, 0, 0, 0, 0, 1, 0, 0, 0, 0]])"
            ]
          },
          "metadata": {},
          "execution_count": 28
        }
      ]
    },
    {
      "cell_type": "code",
      "source": [
        "\n",
        "##TF IDF\n",
        "\n",
        "from sklearn.feature_extraction.text import TfidfVectorizer\n",
        "cv=TfidfVectorizer()\n",
        "X= cv.fit_transform(corpus)\n",
        "\n"
      ],
      "metadata": {
        "id": "U5Zkpju5hswn"
      },
      "execution_count": 29,
      "outputs": []
    },
    {
      "cell_type": "code",
      "source": [
        "corpus[0]"
      ],
      "metadata": {
        "colab": {
          "base_uri": "https://localhost:8080/",
          "height": 35
        },
        "id": "_-SBWVNJWRHG",
        "outputId": "b375e7ac-4070-490b-bf41-2f9a18aeac91"
      },
      "execution_count": 30,
      "outputs": [
        {
          "output_type": "execute_result",
          "data": {
            "text/plain": [
              "' narendra damodardas modi  gujarati    n  end   d mod   d s  modi    listen   born    september       b  is an indian politician who has served as the   th prime minister of india since may      '"
            ],
            "application/vnd.google.colaboratory.intrinsic+json": {
              "type": "string"
            }
          },
          "metadata": {},
          "execution_count": 30
        }
      ]
    },
    {
      "cell_type": "code",
      "source": [
        "X.toarray()"
      ],
      "metadata": {
        "colab": {
          "base_uri": "https://localhost:8080/"
        },
        "id": "cHfDJ5HPWVK1",
        "outputId": "f0cbd7a6-99d3-4f2a-dc3d-180c91ab0a74"
      },
      "execution_count": 31,
      "outputs": [
        {
          "output_type": "execute_result",
          "data": {
            "text/plain": [
              "array([[0.        , 0.        , 0.        , ..., 0.        , 0.        ,\n",
              "        0.        ],\n",
              "       [0.        , 0.        , 0.        , ..., 0.        , 0.        ,\n",
              "        0.        ],\n",
              "       [0.        , 0.        , 0.        , ..., 0.23458474, 0.        ,\n",
              "        0.        ],\n",
              "       ...,\n",
              "       [0.        , 0.        , 0.        , ..., 0.        , 0.        ,\n",
              "        0.34123784],\n",
              "       [0.        , 0.        , 0.        , ..., 0.        , 0.21921311,\n",
              "        0.        ],\n",
              "       [0.        , 0.        , 0.        , ..., 0.        , 0.        ,\n",
              "        0.        ]])"
            ]
          },
          "metadata": {},
          "execution_count": 31
        }
      ]
    },
    {
      "cell_type": "code",
      "source": [
        "from sklearn.feature_extraction.text import TfidfVectorizer\n",
        "cv=TfidfVectorizer(ngram_range=(3,3))\n",
        "X= cv.fit_transform(corpus)"
      ],
      "metadata": {
        "id": "PQG4NlG2Wi6I"
      },
      "execution_count": 32,
      "outputs": []
    },
    {
      "cell_type": "code",
      "source": [
        "X.toarray()"
      ],
      "metadata": {
        "colab": {
          "base_uri": "https://localhost:8080/"
        },
        "id": "v8lGJxTbW0HF",
        "outputId": "7d322c34-e60b-4fcb-98c6-d0f33267a1b9"
      },
      "execution_count": 33,
      "outputs": [
        {
          "output_type": "execute_result",
          "data": {
            "text/plain": [
              "array([[0.        , 0.        , 0.        , ..., 0.        , 0.        ,\n",
              "        0.        ],\n",
              "       [0.        , 0.        , 0.        , ..., 0.        , 0.        ,\n",
              "        0.        ],\n",
              "       [0.        , 0.        , 0.        , ..., 0.21821789, 0.        ,\n",
              "        0.        ],\n",
              "       ...,\n",
              "       [0.        , 0.        , 0.        , ..., 0.        , 0.        ,\n",
              "        0.33333333],\n",
              "       [0.        , 0.        , 0.        , ..., 0.        , 0.20851441,\n",
              "        0.        ],\n",
              "       [0.        , 0.        , 0.        , ..., 0.        , 0.        ,\n",
              "        0.        ]])"
            ]
          },
          "metadata": {},
          "execution_count": 33
        }
      ]
    },
    {
      "cell_type": "code",
      "source": [
        "from sklearn.feature_extraction.text import TfidfVectorizer\n",
        "cv=TfidfVectorizer(ngram_range=(1,1), max_features=10)\n",
        "X= cv.fit_transform(corpus)"
      ],
      "metadata": {
        "id": "VQRV-N4rW7Gq"
      },
      "execution_count": 34,
      "outputs": []
    },
    {
      "cell_type": "code",
      "source": [
        "X.toarray()"
      ],
      "metadata": {
        "colab": {
          "base_uri": "https://localhost:8080/"
        },
        "id": "qZFsyDytXBWO",
        "outputId": "c4466b72-15ef-46ec-fba7-6484145913b9"
      },
      "execution_count": 35,
      "outputs": [
        {
          "output_type": "execute_result",
          "data": {
            "text/plain": [
              "array([[0.        , 0.        , 0.        , 0.42460939, 0.76666295,\n",
              "        0.38333148, 0.        , 0.29153347, 0.        , 0.        ],\n",
              "       [0.31685021, 0.        , 0.        , 0.31685021, 0.28604798,\n",
              "        0.57209596, 0.        , 0.43509372, 0.31685021, 0.31685021],\n",
              "       [0.33673471, 0.27632214, 0.        , 0.33673471, 0.        ,\n",
              "        0.60799886, 0.33673471, 0.46239881, 0.        , 0.        ],\n",
              "       [0.        , 0.43497403, 0.        , 0.53007281, 0.        ,\n",
              "        0.        , 0.        , 0.72788764, 0.        , 0.        ],\n",
              "       [0.3430605 , 0.28151304, 0.76775578, 0.        , 0.30971027,\n",
              "        0.        , 0.        , 0.        , 0.        , 0.3430605 ],\n",
              "       [0.        , 0.40306675, 0.        , 0.        , 0.        ,\n",
              "        0.        , 0.49118961, 0.33724692, 0.49118961, 0.49118961],\n",
              "       [0.        , 0.        , 0.        , 0.        , 0.        ,\n",
              "        0.79596054, 0.        , 0.60534851, 0.        , 0.        ],\n",
              "       [0.        , 0.56264043, 0.        , 0.        , 0.30949812,\n",
              "        0.        , 0.        , 0.        , 0.68565103, 0.34282551],\n",
              "       [0.        , 0.        , 0.82859588, 0.        , 0.33425297,\n",
              "        0.        , 0.37024601, 0.254208  , 0.        , 0.        ],\n",
              "       [0.24781757, 0.20335736, 0.27730294, 0.        , 0.        ,\n",
              "        0.22372627, 0.24781757, 0.68059837, 0.49563514, 0.        ],\n",
              "       [0.        , 0.        , 0.        , 0.        , 0.        ,\n",
              "        0.        , 0.        , 0.        , 0.        , 0.        ]])"
            ]
          },
          "metadata": {},
          "execution_count": 35
        }
      ]
    },
    {
      "cell_type": "code",
      "source": [
        "!pip install gensim"
      ],
      "metadata": {
        "id": "hODeTjC9YGD2",
        "outputId": "2f8872b1-5637-4f31-9106-60abfd849b9e",
        "colab": {
          "base_uri": "https://localhost:8080/"
        }
      },
      "execution_count": 36,
      "outputs": [
        {
          "output_type": "stream",
          "name": "stdout",
          "text": [
            "Requirement already satisfied: gensim in /usr/local/lib/python3.10/dist-packages (4.3.1)\n",
            "Requirement already satisfied: numpy>=1.18.5 in /usr/local/lib/python3.10/dist-packages (from gensim) (1.22.4)\n",
            "Requirement already satisfied: scipy>=1.7.0 in /usr/local/lib/python3.10/dist-packages (from gensim) (1.10.1)\n",
            "Requirement already satisfied: smart-open>=1.8.1 in /usr/local/lib/python3.10/dist-packages (from gensim) (6.3.0)\n"
          ]
        }
      ]
    },
    {
      "cell_type": "code",
      "source": [
        "import gensim"
      ],
      "metadata": {
        "id": "JJujm-bsYOFe"
      },
      "execution_count": 38,
      "outputs": []
    },
    {
      "cell_type": "code",
      "source": [
        "  from gensim.models import Word2Vec, KeyedVectors"
      ],
      "metadata": {
        "id": "g6IN52mMYSNO"
      },
      "execution_count": 40,
      "outputs": []
    },
    {
      "cell_type": "code",
      "source": [
        "import gensim.downloader as api"
      ],
      "metadata": {
        "id": "1Ai6ekEeYi8E"
      },
      "execution_count": 41,
      "outputs": []
    },
    {
      "cell_type": "code",
      "source": [
        "wv = api.load('word2vec-google-news-300')\n",
        "vec_king= wv['king']"
      ],
      "metadata": {
        "id": "W8-KVPlKYQap",
        "outputId": "a2524381-a18c-4d60-9d86-a83376200db0",
        "colab": {
          "base_uri": "https://localhost:8080/"
        }
      },
      "execution_count": 42,
      "outputs": [
        {
          "output_type": "stream",
          "name": "stdout",
          "text": [
            "[==================================================] 100.0% 1662.8/1662.8MB downloaded\n"
          ]
        }
      ]
    },
    {
      "cell_type": "code",
      "source": [
        "vec_king"
      ],
      "metadata": {
        "id": "NoOQy5stYom6",
        "outputId": "894968bd-82e7-4387-a4d0-64f62c84b822",
        "colab": {
          "base_uri": "https://localhost:8080/"
        }
      },
      "execution_count": 43,
      "outputs": [
        {
          "output_type": "execute_result",
          "data": {
            "text/plain": [
              "array([ 1.25976562e-01,  2.97851562e-02,  8.60595703e-03,  1.39648438e-01,\n",
              "       -2.56347656e-02, -3.61328125e-02,  1.11816406e-01, -1.98242188e-01,\n",
              "        5.12695312e-02,  3.63281250e-01, -2.42187500e-01, -3.02734375e-01,\n",
              "       -1.77734375e-01, -2.49023438e-02, -1.67968750e-01, -1.69921875e-01,\n",
              "        3.46679688e-02,  5.21850586e-03,  4.63867188e-02,  1.28906250e-01,\n",
              "        1.36718750e-01,  1.12792969e-01,  5.95703125e-02,  1.36718750e-01,\n",
              "        1.01074219e-01, -1.76757812e-01, -2.51953125e-01,  5.98144531e-02,\n",
              "        3.41796875e-01, -3.11279297e-02,  1.04492188e-01,  6.17675781e-02,\n",
              "        1.24511719e-01,  4.00390625e-01, -3.22265625e-01,  8.39843750e-02,\n",
              "        3.90625000e-02,  5.85937500e-03,  7.03125000e-02,  1.72851562e-01,\n",
              "        1.38671875e-01, -2.31445312e-01,  2.83203125e-01,  1.42578125e-01,\n",
              "        3.41796875e-01, -2.39257812e-02, -1.09863281e-01,  3.32031250e-02,\n",
              "       -5.46875000e-02,  1.53198242e-02, -1.62109375e-01,  1.58203125e-01,\n",
              "       -2.59765625e-01,  2.01416016e-02, -1.63085938e-01,  1.35803223e-03,\n",
              "       -1.44531250e-01, -5.68847656e-02,  4.29687500e-02, -2.46582031e-02,\n",
              "        1.85546875e-01,  4.47265625e-01,  9.58251953e-03,  1.31835938e-01,\n",
              "        9.86328125e-02, -1.85546875e-01, -1.00097656e-01, -1.33789062e-01,\n",
              "       -1.25000000e-01,  2.83203125e-01,  1.23046875e-01,  5.32226562e-02,\n",
              "       -1.77734375e-01,  8.59375000e-02, -2.18505859e-02,  2.05078125e-02,\n",
              "       -1.39648438e-01,  2.51464844e-02,  1.38671875e-01, -1.05468750e-01,\n",
              "        1.38671875e-01,  8.88671875e-02, -7.51953125e-02, -2.13623047e-02,\n",
              "        1.72851562e-01,  4.63867188e-02, -2.65625000e-01,  8.91113281e-03,\n",
              "        1.49414062e-01,  3.78417969e-02,  2.38281250e-01, -1.24511719e-01,\n",
              "       -2.17773438e-01, -1.81640625e-01,  2.97851562e-02,  5.71289062e-02,\n",
              "       -2.89306641e-02,  1.24511719e-02,  9.66796875e-02, -2.31445312e-01,\n",
              "        5.81054688e-02,  6.68945312e-02,  7.08007812e-02, -3.08593750e-01,\n",
              "       -2.14843750e-01,  1.45507812e-01, -4.27734375e-01, -9.39941406e-03,\n",
              "        1.54296875e-01, -7.66601562e-02,  2.89062500e-01,  2.77343750e-01,\n",
              "       -4.86373901e-04, -1.36718750e-01,  3.24218750e-01, -2.46093750e-01,\n",
              "       -3.03649902e-03, -2.11914062e-01,  1.25000000e-01,  2.69531250e-01,\n",
              "        2.04101562e-01,  8.25195312e-02, -2.01171875e-01, -1.60156250e-01,\n",
              "       -3.78417969e-02, -1.20117188e-01,  1.15234375e-01, -4.10156250e-02,\n",
              "       -3.95507812e-02, -8.98437500e-02,  6.34765625e-03,  2.03125000e-01,\n",
              "        1.86523438e-01,  2.73437500e-01,  6.29882812e-02,  1.41601562e-01,\n",
              "       -9.81445312e-02,  1.38671875e-01,  1.82617188e-01,  1.73828125e-01,\n",
              "        1.73828125e-01, -2.37304688e-01,  1.78710938e-01,  6.34765625e-02,\n",
              "        2.36328125e-01, -2.08984375e-01,  8.74023438e-02, -1.66015625e-01,\n",
              "       -7.91015625e-02,  2.43164062e-01, -8.88671875e-02,  1.26953125e-01,\n",
              "       -2.16796875e-01, -1.73828125e-01, -3.59375000e-01, -8.25195312e-02,\n",
              "       -6.49414062e-02,  5.07812500e-02,  1.35742188e-01, -7.47070312e-02,\n",
              "       -1.64062500e-01,  1.15356445e-02,  4.45312500e-01, -2.15820312e-01,\n",
              "       -1.11328125e-01, -1.92382812e-01,  1.70898438e-01, -1.25000000e-01,\n",
              "        2.65502930e-03,  1.92382812e-01, -1.74804688e-01,  1.39648438e-01,\n",
              "        2.92968750e-01,  1.13281250e-01,  5.95703125e-02, -6.39648438e-02,\n",
              "        9.96093750e-02, -2.72216797e-02,  1.96533203e-02,  4.27246094e-02,\n",
              "       -2.46093750e-01,  6.39648438e-02, -2.25585938e-01, -1.68945312e-01,\n",
              "        2.89916992e-03,  8.20312500e-02,  3.41796875e-01,  4.32128906e-02,\n",
              "        1.32812500e-01,  1.42578125e-01,  7.61718750e-02,  5.98144531e-02,\n",
              "       -1.19140625e-01,  2.74658203e-03, -6.29882812e-02, -2.72216797e-02,\n",
              "       -4.82177734e-03, -8.20312500e-02, -2.49023438e-02, -4.00390625e-01,\n",
              "       -1.06933594e-01,  4.24804688e-02,  7.76367188e-02, -1.16699219e-01,\n",
              "        7.37304688e-02, -9.22851562e-02,  1.07910156e-01,  1.58203125e-01,\n",
              "        4.24804688e-02,  1.26953125e-01,  3.61328125e-02,  2.67578125e-01,\n",
              "       -1.01074219e-01, -3.02734375e-01, -5.76171875e-02,  5.05371094e-02,\n",
              "        5.26428223e-04, -2.07031250e-01, -1.38671875e-01, -8.97216797e-03,\n",
              "       -2.78320312e-02, -1.41601562e-01,  2.07031250e-01, -1.58203125e-01,\n",
              "        1.27929688e-01,  1.49414062e-01, -2.24609375e-02, -8.44726562e-02,\n",
              "        1.22558594e-01,  2.15820312e-01, -2.13867188e-01, -3.12500000e-01,\n",
              "       -3.73046875e-01,  4.08935547e-03,  1.07421875e-01,  1.06933594e-01,\n",
              "        7.32421875e-02,  8.97216797e-03, -3.88183594e-02, -1.29882812e-01,\n",
              "        1.49414062e-01, -2.14843750e-01, -1.83868408e-03,  9.91210938e-02,\n",
              "        1.57226562e-01, -1.14257812e-01, -2.05078125e-01,  9.91210938e-02,\n",
              "        3.69140625e-01, -1.97265625e-01,  3.54003906e-02,  1.09375000e-01,\n",
              "        1.31835938e-01,  1.66992188e-01,  2.35351562e-01,  1.04980469e-01,\n",
              "       -4.96093750e-01, -1.64062500e-01, -1.56250000e-01, -5.22460938e-02,\n",
              "        1.03027344e-01,  2.43164062e-01, -1.88476562e-01,  5.07812500e-02,\n",
              "       -9.37500000e-02, -6.68945312e-02,  2.27050781e-02,  7.61718750e-02,\n",
              "        2.89062500e-01,  3.10546875e-01, -5.37109375e-02,  2.28515625e-01,\n",
              "        2.51464844e-02,  6.78710938e-02, -1.21093750e-01, -2.15820312e-01,\n",
              "       -2.73437500e-01, -3.07617188e-02, -3.37890625e-01,  1.53320312e-01,\n",
              "        2.33398438e-01, -2.08007812e-01,  3.73046875e-01,  8.20312500e-02,\n",
              "        2.51953125e-01, -7.61718750e-02, -4.66308594e-02, -2.23388672e-02,\n",
              "        2.99072266e-02, -5.93261719e-02, -4.66918945e-03, -2.44140625e-01,\n",
              "       -2.09960938e-01, -2.87109375e-01, -4.54101562e-02, -1.77734375e-01,\n",
              "       -2.79296875e-01, -8.59375000e-02,  9.13085938e-02,  2.51953125e-01],\n",
              "      dtype=float32)"
            ]
          },
          "metadata": {},
          "execution_count": 43
        }
      ]
    },
    {
      "cell_type": "code",
      "source": [
        "wv.most_similar('cricket')"
      ],
      "metadata": {
        "id": "7NWAhVRwaUd0",
        "outputId": "80e04eff-f21f-4e6b-9c1a-6ed9d74d5d7c",
        "colab": {
          "base_uri": "https://localhost:8080/"
        }
      },
      "execution_count": 44,
      "outputs": [
        {
          "output_type": "execute_result",
          "data": {
            "text/plain": [
              "[('cricketing', 0.8372225761413574),\n",
              " ('cricketers', 0.8165745735168457),\n",
              " ('Test_cricket', 0.8094819188117981),\n",
              " ('Twenty##_cricket', 0.8068488240242004),\n",
              " ('Twenty##', 0.7624265551567078),\n",
              " ('Cricket', 0.75413978099823),\n",
              " ('cricketer', 0.7372578382492065),\n",
              " ('twenty##', 0.7316356897354126),\n",
              " ('T##_cricket', 0.7304614186286926),\n",
              " ('West_Indies_cricket', 0.6987985968589783)]"
            ]
          },
          "metadata": {},
          "execution_count": 44
        }
      ]
    },
    {
      "cell_type": "code",
      "source": [
        "wv.similarity('hockey','sports')"
      ],
      "metadata": {
        "id": "bonFD3_7akzq",
        "outputId": "07d6dc2e-e566-437e-9f38-764fec44a77c",
        "colab": {
          "base_uri": "https://localhost:8080/"
        }
      },
      "execution_count": 45,
      "outputs": [
        {
          "output_type": "execute_result",
          "data": {
            "text/plain": [
              "0.53541523"
            ]
          },
          "metadata": {},
          "execution_count": 45
        }
      ]
    },
    {
      "cell_type": "code",
      "source": [
        "wv.most_similar([vec_king])"
      ],
      "metadata": {
        "id": "PZKo78X3artW",
        "outputId": "73fb725b-4f91-426e-a2d1-c26acf7f8348",
        "colab": {
          "base_uri": "https://localhost:8080/"
        }
      },
      "execution_count": 47,
      "outputs": [
        {
          "output_type": "execute_result",
          "data": {
            "text/plain": [
              "[('king', 1.0),\n",
              " ('kings', 0.7138044834136963),\n",
              " ('queen', 0.6510956883430481),\n",
              " ('monarch', 0.6413194537162781),\n",
              " ('crown_prince', 0.6204220056533813),\n",
              " ('prince', 0.6159993410110474),\n",
              " ('sultan', 0.5864824056625366),\n",
              " ('ruler', 0.5797566771507263),\n",
              " ('princes', 0.5646551847457886),\n",
              " ('Prince_Paras', 0.543294370174408)]"
            ]
          },
          "metadata": {},
          "execution_count": 47
        }
      ]
    },
    {
      "cell_type": "code",
      "source": [],
      "metadata": {
        "id": "aq9b-rAQa1Cx"
      },
      "execution_count": null,
      "outputs": []
    }
  ]
}