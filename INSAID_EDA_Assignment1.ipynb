{
  "cells": [
    {
      "cell_type": "markdown",
      "metadata": {
        "id": "view-in-github",
        "colab_type": "text"
      },
      "source": [
        "<a href=\"https://colab.research.google.com/github/gayathrig21/Miscellaneous/blob/main/INSAID_EDA_Assignment1.ipynb\" target=\"_parent\"><img src=\"https://colab.research.google.com/assets/colab-badge.svg\" alt=\"Open In Colab\"/></a>"
      ]
    },
    {
      "cell_type": "markdown",
      "metadata": {
        "id": "i9VeYsVszL0m"
      },
      "source": [
        "<img src='https://www.insaid.co/wp-content/uploads/2018/04/INSAID_Logo-1.png' height=\"240\" width=\"360\"/>\n",
        "<br/>\n",
        "# Python basics"
      ]
    },
    {
      "cell_type": "markdown",
      "metadata": {
        "collapsed": true,
        "id": "w-8X5kq8zL0p"
      },
      "source": [
        "### 1.Write a Python program to print the following string\n",
        "\n",
        "Sample String: \"Welcome to INSAID- International School of AI and Data Science\"\n",
        "\n"
      ]
    },
    {
      "cell_type": "code",
      "execution_count": 1,
      "metadata": {
        "colab": {
          "base_uri": "https://localhost:8080/"
        },
        "id": "JVIn-4LzzL0p",
        "outputId": "cfca5fe3-9f3a-46c0-d216-fcaf86d6ce28"
      },
      "outputs": [
        {
          "output_type": "stream",
          "name": "stdout",
          "text": [
            "Welcome to INSAID- International School of AI and Data Science\n"
          ]
        }
      ],
      "source": [
        "print(\"Welcome to INSAID- International School of AI and Data Science\")"
      ]
    },
    {
      "cell_type": "markdown",
      "metadata": {
        "id": "nG39ksDJzL0q"
      },
      "source": [
        "### 1.1 In a “Hello, World!” program, a comment may look like this:"
      ]
    },
    {
      "cell_type": "code",
      "execution_count": 2,
      "metadata": {
        "colab": {
          "base_uri": "https://localhost:8080/"
        },
        "id": "LRrT3QvJzL0q",
        "outputId": "0bee53e0-2d01-4853-9781-647d29b086b7"
      },
      "outputs": [
        {
          "output_type": "stream",
          "name": "stdout",
          "text": [
            "Hello, World!\n"
          ]
        }
      ],
      "source": [
        "# Print “Hello, World!” to console\n",
        "print(\"Hello, World!\")\n"
      ]
    },
    {
      "cell_type": "code",
      "execution_count": 3,
      "metadata": {
        "colab": {
          "base_uri": "https://localhost:8080/"
        },
        "id": "SAsoO8Z_zL0q",
        "outputId": "df036841-05ab-4bff-ad63-f1cbe52b14e1"
      },
      "outputs": [
        {
          "output_type": "stream",
          "name": "stdout",
          "text": [
            "hammer\n",
            "white\n",
            "fish\n",
            "frilled\n",
            "bullhead\n",
            "requiem\n"
          ]
        }
      ],
      "source": [
        "# Define sharks variable as a list of strings ('hammer', 'white', 'fish', 'frilled', 'bullhead', 'requiem')\n",
        "\n",
        "sharks =['hammer', 'white', 'fish', 'frilled', 'bullhead', 'requiem']\n",
        "\n",
        "\n",
        "# For loop that iterates over sharks list and prints each string item\n",
        "for shark in sharks:\n",
        "  print(shark)\n"
      ]
    },
    {
      "cell_type": "markdown",
      "metadata": {
        "id": "1FHM9N7wzL0r"
      },
      "source": [
        "### 2.Write a Python Program to Add Two Numbers"
      ]
    },
    {
      "cell_type": "code",
      "execution_count": 4,
      "metadata": {
        "colab": {
          "base_uri": "https://localhost:8080/"
        },
        "id": "Ofx6e6TpzL0r",
        "outputId": "82e63bca-e5e2-4e21-d93d-4722748c140a"
      },
      "outputs": [
        {
          "output_type": "stream",
          "name": "stdout",
          "text": [
            "10\n"
          ]
        }
      ],
      "source": [
        "# initialise two varaibles\n",
        "a = 4\n",
        "b = 6\n",
        "\n",
        "# Add two numbers\n",
        "c= a+b\n",
        "\n",
        "# Display the sum\n",
        "print(c)"
      ]
    },
    {
      "cell_type": "markdown",
      "metadata": {
        "id": "U6H37O_3zL0r"
      },
      "source": [
        "### 3.Write a Python Program to Find the product of two numbers"
      ]
    },
    {
      "cell_type": "code",
      "execution_count": 5,
      "metadata": {
        "colab": {
          "base_uri": "https://localhost:8080/"
        },
        "id": "VSYcI5V7zL0r",
        "outputId": "407673df-042b-4b25-dbd3-8cdfc3f960b1"
      },
      "outputs": [
        {
          "output_type": "stream",
          "name": "stdout",
          "text": [
            "24\n"
          ]
        }
      ],
      "source": [
        "# initialise two varaibles\n",
        "a = 4\n",
        "b = 6\n",
        "\n",
        "# multiply two numbers\n",
        "c= a*b\n",
        "\n",
        "# Display the sum\n",
        "print(c)"
      ]
    },
    {
      "cell_type": "markdown",
      "metadata": {
        "id": "b8KoJeMqzL0r"
      },
      "source": [
        "### 4.Write a python program to find the area of triangle given height and base of the triangle as 3 and 10."
      ]
    },
    {
      "cell_type": "code",
      "execution_count": 6,
      "metadata": {
        "colab": {
          "base_uri": "https://localhost:8080/"
        },
        "id": "5kBNCaxrzL0s",
        "outputId": "43a4b5ab-0eb9-4d9f-deb6-030c04840a5a"
      },
      "outputs": [
        {
          "output_type": "stream",
          "name": "stdout",
          "text": [
            "15.0\n"
          ]
        }
      ],
      "source": [
        "# Area of the triangle A= 1/2(base * height)\n",
        "\n",
        "#given height=3 and base =10\n",
        "height=3\n",
        "base=10\n",
        "area = (height*base)/2\n",
        "\n",
        "print(area)\n"
      ]
    },
    {
      "cell_type": "markdown",
      "metadata": {
        "id": "pqv8SmYozL0s"
      },
      "source": [
        "### 5.Python Program to Swap Two Variables"
      ]
    },
    {
      "cell_type": "code",
      "execution_count": 7,
      "metadata": {
        "colab": {
          "base_uri": "https://localhost:8080/"
        },
        "id": "MYOZf_9gzL0s",
        "outputId": "5c54282b-4d20-41e6-803b-07fc1ad8317f"
      },
      "outputs": [
        {
          "output_type": "stream",
          "name": "stdout",
          "text": [
            "a = B\n",
            "b = A\n"
          ]
        }
      ],
      "source": [
        "# initialise two varaibles\n",
        "a='A'\n",
        "b='B'\n",
        "\n",
        "c=b\n",
        "b=a\n",
        "a=c\n",
        "\n",
        "\n",
        "# create a temporary variable and swap the values\n",
        "\n",
        "\n",
        "print('a =', a)\n",
        "print('b =', b)"
      ]
    },
    {
      "cell_type": "markdown",
      "metadata": {
        "id": "ySivO_sozL0s"
      },
      "source": [
        "## Section"
      ]
    },
    {
      "cell_type": "markdown",
      "metadata": {
        "collapsed": true,
        "id": "-P6jq6PfzL0s"
      },
      "source": [
        "### 1.Write a python program to print datatype of a varaible"
      ]
    },
    {
      "cell_type": "code",
      "execution_count": 8,
      "metadata": {
        "colab": {
          "base_uri": "https://localhost:8080/"
        },
        "id": "Pm0RFL3gzL0s",
        "outputId": "53f1df82-55a9-4380-bb1a-7f07d88e99ce"
      },
      "outputs": [
        {
          "output_type": "stream",
          "name": "stdout",
          "text": [
            "Datatype of a is  <class 'int'>\n",
            "Datatype of b is  <class 'float'>\n",
            "Datatype of c is  <class 'complex'>\n"
          ]
        }
      ],
      "source": [
        "a = 1\n",
        "print('Datatype of a is ', type(a))\n",
        "\n",
        "b = 2.0\n",
        "print('Datatype of b is ', type(b))\n",
        "\n",
        "c = 1+2j\n",
        "print('Datatype of c is ', type(c))"
      ]
    },
    {
      "cell_type": "markdown",
      "metadata": {
        "id": "njlyCiAXzL0t"
      },
      "source": [
        "### 2.Write a python program to extract an item or a range of items from a list.\n",
        "\n"
      ]
    },
    {
      "cell_type": "code",
      "execution_count": 9,
      "metadata": {
        "colab": {
          "base_uri": "https://localhost:8080/"
        },
        "id": "LZDD6CqxzL0t",
        "outputId": "385da30c-389e-4062-8ee6-093a3d72dc79"
      },
      "outputs": [
        {
          "output_type": "stream",
          "name": "stdout",
          "text": [
            "Item at index 2 is  35\n",
            "The first three items are  [15, 20, 35]\n",
            "The last three items are  [30, 35, 60]\n",
            "Start to third last items are  [15, 20, 35, 40, 45, 30]\n"
          ]
        }
      ],
      "source": [
        "a = [15,20,35,40,45,30,35,60]\n",
        "\n",
        "# Print the item at index 2\n",
        "\n",
        "print('Item at index 2 is ', a[2])\n",
        "\n",
        "# Print the first 3 items\n",
        "print('The first three items are ', a[:3])\n",
        "\n",
        "# Print the last 3 items\n",
        "print('The last three items are ', a[-3:])\n",
        "\n",
        "# Start to third last item\n",
        "print('Start to third last items are ', a[:-2])"
      ]
    },
    {
      "cell_type": "markdown",
      "metadata": {
        "id": "DzGq7J7gzL0t"
      },
      "source": [
        "### 3.Converting Floats to Integers\n"
      ]
    },
    {
      "cell_type": "code",
      "execution_count": 10,
      "metadata": {
        "colab": {
          "base_uri": "https://localhost:8080/"
        },
        "id": "VhTi-MibzL0t",
        "outputId": "14f821fc-a7c2-490e-a1ac-376808630304"
      },
      "outputs": [
        {
          "output_type": "stream",
          "name": "stdout",
          "text": [
            "125 390\n"
          ]
        }
      ],
      "source": [
        "b = 125.0\n",
        "c = 390.8\n",
        "\n",
        "# Print the Integer values\n",
        "print(int(b) , int(c))"
      ]
    },
    {
      "cell_type": "markdown",
      "metadata": {
        "id": "eln91T_KzL0t"
      },
      "source": [
        "### 4.Converting Numbers to Strings"
      ]
    },
    {
      "cell_type": "code",
      "execution_count": 11,
      "metadata": {
        "colab": {
          "base_uri": "https://localhost:8080/"
        },
        "id": "xb6nBSYQzL0t",
        "outputId": "a03d240c-af63-4a80-b527-af03259c836d"
      },
      "outputs": [
        {
          "output_type": "stream",
          "name": "stdout",
          "text": [
            "10 is of type <class 'int'>\n",
            "10 is of type <class 'str'>\n",
            "String value of a is  10\n"
          ]
        }
      ],
      "source": [
        "a = 10\n",
        "\n",
        "print(a, \"is of type\", type(a))\n",
        "\n",
        "# Convert the value in a to a string and then print\n",
        "b=str(a)\n",
        "print(b, \"is of type\", type(b))\n",
        "print('String value of a is ', b)"
      ]
    },
    {
      "cell_type": "markdown",
      "metadata": {
        "id": "gtw0lp-mzL0t"
      },
      "source": [
        "### 5.Converting Strings to Numbers"
      ]
    },
    {
      "cell_type": "code",
      "execution_count": 12,
      "metadata": {
        "colab": {
          "base_uri": "https://localhost:8080/"
        },
        "id": "vXYvmAYfzL0u",
        "outputId": "fc09351e-a0e1-49fe-e63c-0d9644ba54e6"
      },
      "outputs": [
        {
          "output_type": "stream",
          "name": "stdout",
          "text": [
            "Difference between a and b is  58\n"
          ]
        }
      ],
      "source": [
        "a = \"50\"\n",
        "b = \"108\"\n",
        "\n",
        "# Find the difference between a and b\n",
        "print('Difference between a and b is ', int(b)-int(a))"
      ]
    },
    {
      "cell_type": "markdown",
      "metadata": {
        "id": "wZwBXIJTzL0u"
      },
      "source": [
        "### 6.Converting list to Tuples"
      ]
    },
    {
      "cell_type": "code",
      "execution_count": 13,
      "metadata": {
        "colab": {
          "base_uri": "https://localhost:8080/"
        },
        "id": "g7gB9Xy8zL0u",
        "outputId": "4c8a0ba9-56b2-41ac-cb01-15ef7364f6d2"
      },
      "outputs": [
        {
          "output_type": "stream",
          "name": "stdout",
          "text": [
            "('request', 'source', 'repository', 'branch')\n"
          ]
        }
      ],
      "source": [
        "myList = ['request', 'source', 'repository', 'branch']\n",
        "\n",
        "# Print myList to a Tuple\n",
        "\n",
        "myTuple = tuple(myList)\n",
        "print(myTuple)"
      ]
    },
    {
      "cell_type": "markdown",
      "metadata": {
        "id": "jOYHkQtAzL0u"
      },
      "source": [
        "### 7.Converting tuple to Lists"
      ]
    },
    {
      "cell_type": "code",
      "execution_count": 14,
      "metadata": {
        "colab": {
          "base_uri": "https://localhost:8080/"
        },
        "id": "JzTOG1SczL0u",
        "outputId": "ee21b715-bbad-44f2-b5db-f215c6e6b00a"
      },
      "outputs": [
        {
          "output_type": "stream",
          "name": "stdout",
          "text": [
            "['blue', 'red', 'white']\n"
          ]
        }
      ],
      "source": [
        "myTuple = ('blue', 'red', 'white')\n",
        "\n",
        "# Print myTuple to a List\n",
        "myList = list(myTuple)\n",
        "print(myList)"
      ]
    },
    {
      "cell_type": "markdown",
      "metadata": {
        "collapsed": true,
        "id": "__YKn9jxzL0u"
      },
      "source": [
        "### 8.converting strings to lists:"
      ]
    },
    {
      "cell_type": "code",
      "execution_count": 15,
      "metadata": {
        "colab": {
          "base_uri": "https://localhost:8080/"
        },
        "id": "jjBqn9wlzL0u",
        "outputId": "83776238-9125-4348-90f7-c566b78b871b"
      },
      "outputs": [
        {
          "output_type": "stream",
          "name": "stdout",
          "text": [
            "['I', 'N', 'S', 'A', 'I', 'D']\n"
          ]
        }
      ],
      "source": [
        "myString = 'INSAID'\n",
        "\n",
        "# Convert myString to List\n",
        "print(list(myString))"
      ]
    },
    {
      "cell_type": "markdown",
      "metadata": {
        "id": "kAe8sERPzL0u"
      },
      "source": [
        "### 9.Assign different data types to a varibles"
      ]
    },
    {
      "cell_type": "code",
      "execution_count": 16,
      "metadata": {
        "colab": {
          "base_uri": "https://localhost:8080/"
        },
        "id": "3R3_Exb_zL0v",
        "outputId": "df80c363-783e-40f1-ccc4-159773264173"
      },
      "outputs": [
        {
          "output_type": "stream",
          "name": "stdout",
          "text": [
            "Datatype of a is  <class 'str'>\n",
            "Datatype of b is  <class 'float'>\n",
            "Datatype of c is  <class 'bool'>\n",
            "Datatype of d is  <class 'list'>\n",
            "Datatype of e is  <class 'tuple'>\n",
            "Datatype of f is  <class 'dict'>\n"
          ]
        }
      ],
      "source": [
        "# Try string, float, boolean, list, tuple, dictionary\n",
        "\n",
        "a = 'String'\n",
        "b = 10.2\n",
        "c = True\n",
        "d = [1,2,3,4]\n",
        "e = (a,b,c)\n",
        "f= {1:'a',2:'b', 3:'c'}\n",
        "\n",
        "print('Datatype of a is ', type(a))\n",
        "\n",
        "print('Datatype of b is ', type(b))\n",
        "\n",
        "print('Datatype of c is ', type(c))\n",
        "\n",
        "print('Datatype of d is ', type(d))\n",
        "\n",
        "print('Datatype of e is ', type(e))\n",
        "\n",
        "print('Datatype of f is ', type(f))"
      ]
    },
    {
      "cell_type": "markdown",
      "metadata": {
        "id": "WaVXKQP5zL0v"
      },
      "source": [
        "## Section"
      ]
    },
    {
      "cell_type": "markdown",
      "metadata": {
        "collapsed": true,
        "id": "iJ1K8WJHzL0v"
      },
      "source": [
        "### Print out a string that uses a formatter"
      ]
    },
    {
      "cell_type": "code",
      "execution_count": 17,
      "metadata": {
        "colab": {
          "base_uri": "https://localhost:8080/"
        },
        "id": "4eFGvVMJzL0v",
        "outputId": "1d2a22c5-89c5-4019-cbc4-757fb32077dd"
      },
      "outputs": [
        {
          "output_type": "stream",
          "name": "stdout",
          "text": [
            "john has 5 cars.\n"
          ]
        }
      ],
      "source": [
        "# Print \"john has 5 cars.\" using formatter\n",
        "a=5\n",
        "print(f'john has {a} cars.')"
      ]
    },
    {
      "cell_type": "markdown",
      "metadata": {
        "id": "StiI-SYWzL0v"
      },
      "source": [
        "### We can also assign a variable to be equal to the value of a string that has formatter placeholders:"
      ]
    },
    {
      "cell_type": "code",
      "execution_count": 18,
      "metadata": {
        "colab": {
          "base_uri": "https://localhost:8080/"
        },
        "id": "dEXqHcDNzL0v",
        "outputId": "5d1b0eb0-9218-4a2f-ea33-70c6202f31a5"
      },
      "outputs": [
        {
          "output_type": "stream",
          "name": "stdout",
          "text": [
            "john likes open source.\n"
          ]
        }
      ],
      "source": [
        "open_string = \"john likes {}.\"\n",
        "\n",
        "# Use format method to print the following output \"john likes open source.\"\n",
        "print (open_string.format('open source'))"
      ]
    },
    {
      "cell_type": "markdown",
      "metadata": {
        "id": "Jh9U70BdzL0v"
      },
      "source": [
        "### Using Formatters with Multiple Placeholders"
      ]
    },
    {
      "cell_type": "code",
      "execution_count": 19,
      "metadata": {
        "colab": {
          "base_uri": "https://localhost:8080/"
        },
        "id": "XubicgOMzL0w",
        "outputId": "ea8aa847-19b9-45a1-a497-de0eeacce522"
      },
      "outputs": [
        {
          "output_type": "stream",
          "name": "stdout",
          "text": [
            "john likes open source software.\n"
          ]
        }
      ],
      "source": [
        "new_open_string = \"john likes {} {}.\"                      #2 {} placeholders\n",
        "# Pass 2 strings into format method, separated by a comma to get output \"john likes open-source software.\"\n",
        "print (new_open_string.format('open source', 'software'))"
      ]
    },
    {
      "cell_type": "code",
      "execution_count": 20,
      "metadata": {
        "colab": {
          "base_uri": "https://localhost:8080/"
        },
        "id": "iAJYYhKPzL0w",
        "outputId": "cefcade7-2794-40b9-bdd8-9317a46c377f"
      },
      "outputs": [
        {
          "output_type": "stream",
          "name": "stdout",
          "text": [
            "john loves open source software, and has 5 balloons.\n"
          ]
        }
      ],
      "source": [
        "sammy_string = \"john loves {} {}, and has {} {}.\"                      #4 {} placeholders\n",
        "# Pass 4 strings into method to get output \"john loves open-source software, and has 5 balloons.\"\n",
        "print (sammy_string.format('open source', 'software' , '5' , 'balloons'))"
      ]
    },
    {
      "cell_type": "markdown",
      "metadata": {
        "id": "j4eT3fvTzL0w"
      },
      "source": [
        "### Reordering Formatters with Positional and Keyword Arguments\n"
      ]
    },
    {
      "cell_type": "code",
      "execution_count": 21,
      "metadata": {
        "colab": {
          "base_uri": "https://localhost:8080/"
        },
        "id": "WwjNG1M7zL0w",
        "outputId": "00596585-4442-4bbc-fd03-d994151bed01"
      },
      "outputs": [
        {
          "output_type": "stream",
          "name": "stdout",
          "text": [
            "john the shark has a pet pilot fish!\n"
          ]
        }
      ],
      "source": [
        "# Reference sample\n",
        "print(\"john the {} has a pet {}!\".format(\"shark\", \"pilot fish\"))"
      ]
    },
    {
      "cell_type": "markdown",
      "metadata": {
        "id": "JrriHftfzL0w"
      },
      "source": [
        "### We can pass these index numbers into the curly braces that serve as the placeholders in the original string:"
      ]
    },
    {
      "cell_type": "code",
      "execution_count": 22,
      "metadata": {
        "colab": {
          "base_uri": "https://localhost:8080/"
        },
        "id": "w8L7RN90zL0w",
        "outputId": "bc69d64d-cd75-4529-a77a-478b94e8f8f1"
      },
      "outputs": [
        {
          "output_type": "stream",
          "name": "stdout",
          "text": [
            "john the shark has a pet pilot fish!\n",
            "john is a happy, smiling, and blue shark!\n"
          ]
        }
      ],
      "source": [
        "# Reference Sample\n",
        "print(\"john the {0} has a pet {1}!\".format(\"shark\", \"pilot fish\"))\n",
        "\n",
        "print(\"john is a {}, {}, and {} {}!\".format(\"happy\", \"smiling\", \"blue\", \"shark\"))\n"
      ]
    },
    {
      "cell_type": "markdown",
      "metadata": {
        "id": "IuvIgxSbzL0w"
      },
      "source": [
        "### Python Program to Get String Input from User\n"
      ]
    },
    {
      "cell_type": "code",
      "execution_count": 23,
      "metadata": {
        "colab": {
          "base_uri": "https://localhost:8080/"
        },
        "id": "X4YSm0KyzL0x",
        "outputId": "490220aa-ff19-4a63-c3b3-a08a87740a3c"
      },
      "outputs": [
        {
          "output_type": "stream",
          "name": "stdout",
          "text": [
            "Input any string: Gayathri\n",
            "You entered  Gayathri\n"
          ]
        }
      ],
      "source": [
        "#Enter any string and print it\n",
        "n=str(input(\"Input any string: \"))\n",
        "print(\"You entered \", n)"
      ]
    },
    {
      "cell_type": "markdown",
      "metadata": {
        "collapsed": true,
        "id": "jMiXuafBzL0x"
      },
      "source": [
        "### Python program for conditional statements\n",
        "\n",
        "### 1)If the student receives over 65% on her test, report that her grade passes; if not, report that her grade fails"
      ]
    },
    {
      "cell_type": "code",
      "execution_count": 24,
      "metadata": {
        "colab": {
          "base_uri": "https://localhost:8080/"
        },
        "id": "6QioYTNnzL0x",
        "outputId": "aae3be43-9c39-46c6-e13a-e106c2362408"
      },
      "outputs": [
        {
          "output_type": "stream",
          "name": "stdout",
          "text": [
            "Result is pass\n"
          ]
        }
      ],
      "source": [
        "grade = 70\n",
        "\n",
        "if grade >65:\n",
        "  print('Result is pass')\n",
        "else:\n",
        "  print('FAIL')\n"
      ]
    },
    {
      "cell_type": "code",
      "execution_count": 25,
      "metadata": {
        "colab": {
          "base_uri": "https://localhost:8080/"
        },
        "id": "qbUis3NmzL0x",
        "outputId": "7e071249-2a7e-4c0e-8d5b-96e02ff74688"
      },
      "outputs": [
        {
          "output_type": "stream",
          "name": "stdout",
          "text": [
            "Result is FAIL\n"
          ]
        }
      ],
      "source": [
        "# Use only if\n",
        "grade = 60\n",
        "if grade < 65:\n",
        "  print('Result is FAIL')\n"
      ]
    },
    {
      "cell_type": "markdown",
      "metadata": {
        "id": "NkBUVumFzL0x"
      },
      "source": [
        "### Write a python program calculate whether a bank account balance is below 0 and print appropriate message."
      ]
    },
    {
      "cell_type": "code",
      "execution_count": 26,
      "metadata": {
        "colab": {
          "base_uri": "https://localhost:8080/"
        },
        "id": "cNk9HzsjzL0x",
        "outputId": "24471adf-3768-43ad-b2ac-4bb43db31c13"
      },
      "outputs": [
        {
          "output_type": "stream",
          "name": "stdout",
          "text": [
            "Your account balance  522\n"
          ]
        }
      ],
      "source": [
        "# Use if else\n",
        "balance = 522\n",
        "if balance <0:\n",
        "  print('Your account balance is below 0')\n",
        "else:\n",
        "  print('Your account balance ', balance)\n"
      ]
    },
    {
      "cell_type": "markdown",
      "metadata": {
        "id": "ppvOuUAvzL0x"
      },
      "source": [
        "### Using Else if statement"
      ]
    },
    {
      "cell_type": "code",
      "execution_count": 27,
      "metadata": {
        "colab": {
          "base_uri": "https://localhost:8080/"
        },
        "id": "WOqhQ752zL0x",
        "outputId": "5d487c4a-214e-410e-e09b-5aa7dae885eb"
      },
      "outputs": [
        {
          "output_type": "stream",
          "name": "stdout",
          "text": [
            "Your account balance  522\n"
          ]
        }
      ],
      "source": [
        "balance = 522\n",
        "if balance <0:\n",
        "  print('Your account balance is below 0')\n",
        "elif balance >=0:\n",
        "  print('Your account balance ', balance)\n"
      ]
    },
    {
      "cell_type": "markdown",
      "metadata": {
        "id": "20KEHXvKzL0y"
      },
      "source": [
        "### Python program to print  Fibonacci series between 0 to 50."
      ]
    },
    {
      "cell_type": "code",
      "execution_count": 28,
      "metadata": {
        "id": "LA23CXbAzL0y"
      },
      "outputs": [],
      "source": [
        "a=0\n",
        "b=0\n",
        "for i in range (1,50):\n",
        "  a=a+i\n",
        "  b=b+a\n",
        "  #print(b)"
      ]
    },
    {
      "cell_type": "markdown",
      "metadata": {
        "id": "KJ3_oeVyzL0y"
      },
      "source": [
        "### Python program to find numbers which are divisible by 7 and multiple of 5 between a range 150 to 270"
      ]
    },
    {
      "cell_type": "code",
      "execution_count": 29,
      "metadata": {
        "colab": {
          "base_uri": "https://localhost:8080/"
        },
        "id": "0-F_FTEFzL0y",
        "outputId": "73341018-4766-4212-9735-d3e96f7a05f1"
      },
      "outputs": [
        {
          "output_type": "stream",
          "name": "stdout",
          "text": [
            "List of values divisible by 7 between range of 150 to 270 are : [154, 161, 168, 175, 182, 189, 196, 203, 210, 217, 224, 231, 238, 245, 252, 259, 266]\n",
            "List of values multiple of 5 between range of 150 to 270 are : [150, 155, 160, 165, 170, 175, 180, 185, 190, 195, 200, 205, 210, 215, 220, 225, 230, 235, 240, 245, 250, 255, 260, 265]\n",
            "List of values divisible by 7 and multiple of 5 between range of 150 to 270 are : [175, 210, 245]\n"
          ]
        }
      ],
      "source": [
        "a =[]\n",
        "b =[]\n",
        "c= []\n",
        "for i in range (150,270):\n",
        "  if(i%7==0):\n",
        "    a.append(i);\n",
        "    #print(i,' is divisible by 7')\n",
        "  if(i%5==0):\n",
        "    b.append(i);\n",
        "  if (i%7==0) and  (i%5==0):\n",
        "    c.append(i)\n",
        "print('List of values divisible by 7 between range of 150 to 270 are :', a)\n",
        "print('List of values multiple of 5 between range of 150 to 270 are :', b)\n",
        "print('List of values divisible by 7 and multiple of 5 between range of 150 to 270 are :', c)"
      ]
    },
    {
      "cell_type": "markdown",
      "metadata": {
        "id": "lUpYpcsXzL0y"
      },
      "source": [
        "### Python program to Sum all the items in a list"
      ]
    },
    {
      "cell_type": "code",
      "execution_count": 30,
      "metadata": {
        "colab": {
          "base_uri": "https://localhost:8080/"
        },
        "id": "0OyUPgBazL0y",
        "outputId": "3adac469-7e50-420e-be5f-14b1bf7c7ad7"
      },
      "outputs": [
        {
          "output_type": "stream",
          "name": "stdout",
          "text": [
            "74\n"
          ]
        }
      ],
      "source": [
        "def sum_list(items):\n",
        "    # Your code here\n",
        "    a=0;\n",
        "    for item in items:\n",
        "      a=a+item;\n",
        "    return a # Your variable\n",
        "print(sum_list([20,12,20,22]))"
      ]
    },
    {
      "cell_type": "markdown",
      "metadata": {
        "id": "4owTsLqfzL0y"
      },
      "source": [
        "### Python program to Remove duplicates from a list."
      ]
    },
    {
      "cell_type": "code",
      "execution_count": 31,
      "metadata": {
        "colab": {
          "base_uri": "https://localhost:8080/"
        },
        "id": "dtDEE-iXzL0y",
        "outputId": "88128d8e-a1df-4e0d-8dd1-08bf8a572727"
      },
      "outputs": [
        {
          "output_type": "stream",
          "name": "stdout",
          "text": [
            "{70, 40, 10, 80, 50, 20, 60, 30}\n"
          ]
        }
      ],
      "source": [
        "a = [10,20,30,40,50,60,70,40,80,50,40]\n",
        "b=set(a)\n",
        "print(b)\n"
      ]
    },
    {
      "cell_type": "markdown",
      "metadata": {
        "id": "b2z5HOeXzL0z"
      },
      "source": [
        "### Python program to Get the largest number from a list."
      ]
    },
    {
      "cell_type": "code",
      "execution_count": 32,
      "metadata": {
        "colab": {
          "base_uri": "https://localhost:8080/"
        },
        "id": "fD3_dnYvzL0z",
        "outputId": "15cad5a1-7506-4637-b804-ea32099214e6"
      },
      "outputs": [
        {
          "output_type": "stream",
          "name": "stdout",
          "text": [
            "28\n"
          ]
        }
      ],
      "source": [
        "def max_num_in_list( list ):\n",
        "    # Your code\n",
        "    a=max(list)\n",
        "    return a # Maximum value\n",
        "print(max_num_in_list([1, 12, 28, 0]))"
      ]
    },
    {
      "cell_type": "markdown",
      "metadata": {
        "id": "3Q_bK71xzL0z"
      },
      "source": [
        "### Concatenation of Tuples."
      ]
    },
    {
      "cell_type": "code",
      "execution_count": 33,
      "metadata": {
        "colab": {
          "base_uri": "https://localhost:8080/"
        },
        "id": "eY6Lpxn5zL0z",
        "outputId": "3c885733-0d61-421d-d884-849a4fa46f04"
      },
      "outputs": [
        {
          "output_type": "stream",
          "name": "stdout",
          "text": [
            "(0, 1, 2, 3, 'python', 'code')\n"
          ]
        }
      ],
      "source": [
        "# Code for concatenating 2 tuples\n",
        " \n",
        "tuple1 = (0, 1, 2, 3)\n",
        "tuple2 = ('python', 'code')\n",
        " \n",
        "# Concatenating above two\n",
        "print(tuple1+tuple2)"
      ]
    },
    {
      "cell_type": "markdown",
      "metadata": {
        "id": "dY26pOAbzL0z"
      },
      "source": [
        "### Nesting of Tuples."
      ]
    },
    {
      "cell_type": "code",
      "execution_count": 34,
      "metadata": {
        "colab": {
          "base_uri": "https://localhost:8080/"
        },
        "id": "aaxevY6FzL0z",
        "outputId": "674f42c4-00d7-4a34-dd35-900911e6a99b"
      },
      "outputs": [
        {
          "output_type": "stream",
          "name": "stdout",
          "text": [
            "((0, 1, 2, 3), ('python', 'code'))\n"
          ]
        }
      ],
      "source": [
        "# Code for creating nested tuples\n",
        " \n",
        "tuple1 = (0, 1, 2, 3)\n",
        "tuple2 = ('python', 'code')\n",
        "tuple3 =(tuple1,tuple2)\n",
        "#tuple1 = str(tuple1)\n",
        "#tuple2=str(tuple2)\n",
        "#nested = tuple1+tuple2\n",
        "#tuple3=nested\n",
        "print(tuple3)\n",
        "\n"
      ]
    },
    {
      "cell_type": "markdown",
      "metadata": {
        "id": "03w03nNbzL0z"
      },
      "source": [
        "### Write a Python program to add an item in a tuple."
      ]
    },
    {
      "cell_type": "code",
      "execution_count": 35,
      "metadata": {
        "colab": {
          "base_uri": "https://localhost:8080/"
        },
        "id": "eJzWy8yizL0z",
        "outputId": "b30adc83-4b10-411e-b5a1-e7e5fa358423"
      },
      "outputs": [
        {
          "output_type": "stream",
          "name": "stdout",
          "text": [
            "(1, 2, 3, 4)\n",
            "[1, 2, 3, 4, 5, 9, 7, 8]\n",
            "(1, 2, 3, 4, 5, 9, 7, 8)\n"
          ]
        }
      ],
      "source": [
        "# Create a tuple & print\n",
        "tuple1= (1,2,3,4)\n",
        "print(tuple1)\n",
        "\n",
        "#tuples are immutable, so you can not add new elements\n",
        "#using merge of tuples with the + operator you can add an element and it will create a new tuple\n",
        "tuple2=(5,6,7,8)\n",
        "\n",
        "new_list = list(tuple1)+list(tuple2)\n",
        "\n",
        "# Adding items in a specific index\n",
        "new_list[5]=9\n",
        "print(new_list)\n",
        "tuple1 = tuple(new_list)\n",
        "print(tuple1)\n",
        "\n"
      ]
    },
    {
      "cell_type": "markdown",
      "metadata": {
        "id": "pdPzRNZSzL00"
      },
      "source": [
        "### Write a Python program to remove an item from a tuple."
      ]
    },
    {
      "cell_type": "code",
      "execution_count": 36,
      "metadata": {
        "colab": {
          "base_uri": "https://localhost:8080/"
        },
        "id": "6Jmc-kv0zL00",
        "outputId": "b9caa8aa-5063-4009-c758-adb115ee2bc8"
      },
      "outputs": [
        {
          "output_type": "stream",
          "name": "stdout",
          "text": [
            "(1, 2, 3, 4)\n",
            "(1, 3, 4)\n"
          ]
        }
      ],
      "source": [
        "# Create a tuple and print it\n",
        "tuple1= (1,2,3,4)\n",
        "print(tuple1)\n",
        "# Find a way to remove an item of the tuple (Hint: Use other data types)\n",
        "myList=list(tuple1)\n",
        "myList.remove(2)\n",
        "tuple1=tuple(myList)\n",
        "print(tuple1)"
      ]
    },
    {
      "cell_type": "markdown",
      "metadata": {
        "id": "0RD8is08zL00"
      },
      "source": [
        "### Python Program to Check if a given key already exists in a dictionary."
      ]
    },
    {
      "cell_type": "code",
      "execution_count": 37,
      "metadata": {
        "id": "Uy6zYLybzL00"
      },
      "outputs": [],
      "source": [
        "d = {1: 10, 2: 20, 3: 30, 4: 40, 5: 50, 6: 60}\n",
        "def is_key_present(x):\n",
        "  # Your code goes here\n",
        "  result ='Key does not exist'\n",
        "  for key in d.keys():\n",
        "    if (x==key):\n",
        "      result='Key already exists'    \n",
        "  return result # Your observation\n"
      ]
    },
    {
      "cell_type": "code",
      "source": [
        "is_key_present(5)\n"
      ],
      "metadata": {
        "colab": {
          "base_uri": "https://localhost:8080/",
          "height": 35
        },
        "id": "fl4sT1zbSReC",
        "outputId": "c5bc9647-bd81-469f-c175-88af0cf5cc56"
      },
      "execution_count": 38,
      "outputs": [
        {
          "output_type": "execute_result",
          "data": {
            "text/plain": [
              "'Key already exists'"
            ],
            "application/vnd.google.colaboratory.intrinsic+json": {
              "type": "string"
            }
          },
          "metadata": {},
          "execution_count": 38
        }
      ]
    },
    {
      "cell_type": "code",
      "source": [
        "is_key_present(9)"
      ],
      "metadata": {
        "colab": {
          "base_uri": "https://localhost:8080/",
          "height": 35
        },
        "id": "hrCZclZtSStX",
        "outputId": "cd3af691-9a13-40a5-9609-b74ccb7f441f"
      },
      "execution_count": 39,
      "outputs": [
        {
          "output_type": "execute_result",
          "data": {
            "text/plain": [
              "'Key does not exist'"
            ],
            "application/vnd.google.colaboratory.intrinsic+json": {
              "type": "string"
            }
          },
          "metadata": {},
          "execution_count": 39
        }
      ]
    },
    {
      "cell_type": "code",
      "source": [
        "is_key_present(2)"
      ],
      "metadata": {
        "colab": {
          "base_uri": "https://localhost:8080/",
          "height": 35
        },
        "id": "B4nbSEX2Tcwf",
        "outputId": "b16abf9b-370b-44ea-f1f8-260b65db11a7"
      },
      "execution_count": 40,
      "outputs": [
        {
          "output_type": "execute_result",
          "data": {
            "text/plain": [
              "'Key already exists'"
            ],
            "application/vnd.google.colaboratory.intrinsic+json": {
              "type": "string"
            }
          },
          "metadata": {},
          "execution_count": 40
        }
      ]
    },
    {
      "cell_type": "markdown",
      "metadata": {
        "id": "FNe3bxhOzL00"
      },
      "source": [
        "### Write a Python script to merge two Python dictionaries."
      ]
    },
    {
      "cell_type": "code",
      "execution_count": 41,
      "metadata": {
        "colab": {
          "base_uri": "https://localhost:8080/"
        },
        "id": "CmqmBqwizL00",
        "outputId": "b78afdc3-ad7c-4dcd-9799-527f1b4170cd"
      },
      "outputs": [
        {
          "output_type": "stream",
          "name": "stdout",
          "text": [
            "{'a': 100, 'b': 200, 'x': 300, 'y': 200}\n",
            "{'x': 300, 'y': 200}\n"
          ]
        }
      ],
      "source": [
        "d1 = {'a': 100, 'b': 200}\n",
        "d2 = {'x': 300, 'y': 200}\n",
        "\n",
        "d1.update(d2)\n",
        "print(d1)\n",
        "print(d2)"
      ]
    },
    {
      "cell_type": "markdown",
      "metadata": {
        "id": "GtQJg-TzzL00"
      },
      "source": [
        "### Write a Python function to find the Max of three numbers."
      ]
    },
    {
      "cell_type": "code",
      "execution_count": 42,
      "metadata": {
        "colab": {
          "base_uri": "https://localhost:8080/"
        },
        "id": "xHbPX7n_zL00",
        "outputId": "4c3d1444-8aca-46b0-ba71-996f78292be8"
      },
      "outputs": [
        {
          "output_type": "stream",
          "name": "stdout",
          "text": [
            "52\n"
          ]
        }
      ],
      "source": [
        "def max_of_two( x, y ):\n",
        "    a=max(x,y)\n",
        "    return a # Your answer\n",
        "\n",
        "def max_of_three( x, y, z ):\n",
        "    # Your code here use max_of_two\n",
        "    c= max(max_of_two( x, y ),z)\n",
        "    return c# Your answer\n",
        "print(max_of_three(-13, 26, 52))"
      ]
    },
    {
      "cell_type": "markdown",
      "metadata": {
        "collapsed": true,
        "id": "knwrljQMzL01"
      },
      "source": [
        "### Write a Python program to reverse a string."
      ]
    },
    {
      "cell_type": "code",
      "execution_count": 43,
      "metadata": {
        "colab": {
          "base_uri": "https://localhost:8080/"
        },
        "id": "ZTxXbEQ_zL01",
        "outputId": "e5dd7213-974a-4307-acfc-609a20a7252b"
      },
      "outputs": [
        {
          "output_type": "stream",
          "name": "stdout",
          "text": [
            "DIASNI\n"
          ]
        }
      ],
      "source": [
        "def string_reverse(str1):\n",
        "    a=str1[::-1]\n",
        "    return a # Your answer\n",
        "print(string_reverse('INSAID'))"
      ]
    },
    {
      "cell_type": "markdown",
      "metadata": {
        "collapsed": true,
        "id": "IeSRYaCAzL01"
      },
      "source": [
        "### Write a Python function to calculate the factorial of a number "
      ]
    },
    {
      "cell_type": "code",
      "execution_count": 44,
      "metadata": {
        "colab": {
          "base_uri": "https://localhost:8080/"
        },
        "id": "WR_jfGk-zL01",
        "outputId": "8791f34b-5841-4ccb-b1e3-1df77058f8bd"
      },
      "outputs": [
        {
          "output_type": "stream",
          "name": "stdout",
          "text": [
            "Input a number to compute the factiorial : 5\n",
            "120\n"
          ]
        }
      ],
      "source": [
        "\n",
        "def factorial(n):\n",
        "  fact =1\n",
        "  for i in range(1,n+1):\n",
        "    fact = fact * i\n",
        "  return fact # The answer\n",
        "n=int(input(\"Input a number to compute the factiorial : \"))\n",
        "print(factorial(n))"
      ]
    },
    {
      "cell_type": "markdown",
      "metadata": {
        "id": "k04-52qdzL01"
      },
      "source": [
        "### Write a Python function to sum all the numbers in a list."
      ]
    },
    {
      "cell_type": "code",
      "execution_count": 45,
      "metadata": {
        "colab": {
          "base_uri": "https://localhost:8080/"
        },
        "id": "RTTpsAh9zL01",
        "outputId": "cfbadf0d-a70f-48b1-a2ad-bc38e68bd4d0"
      },
      "outputs": [
        {
          "output_type": "stream",
          "name": "stdout",
          "text": [
            "26\n"
          ]
        }
      ],
      "source": [
        "def sum(numbers):\n",
        "  a=0\n",
        "  for i in numbers:\n",
        "     a=a+i\n",
        "  return a # Your Answer\n",
        "print(sum((8, 2, 3, 6, 7)))"
      ]
    },
    {
      "cell_type": "markdown",
      "metadata": {
        "collapsed": true,
        "id": "no-ZlvkdzL01"
      },
      "source": [
        "### Write a Python function to check whether a number is in a given range."
      ]
    },
    {
      "cell_type": "code",
      "execution_count": 46,
      "metadata": {
        "colab": {
          "base_uri": "https://localhost:8080/",
          "height": 35
        },
        "id": "Ozjvd5AizL01",
        "outputId": "8b14af18-7023-4e36-a8b1-61963a1cd8af"
      },
      "outputs": [
        {
          "output_type": "execute_result",
          "data": {
            "text/plain": [
              "'Number is in range of 0 to 5'"
            ],
            "application/vnd.google.colaboratory.intrinsic+json": {
              "type": "string"
            }
          },
          "metadata": {},
          "execution_count": 46
        }
      ],
      "source": [
        "def test_range(n):\n",
        "   a='Number is not in range of 0 to 5';\n",
        "   for i in range(0,6):\n",
        "      if i==n:\n",
        "        a='Number is in range of 0 to 5';\n",
        "   return a # Your answer \n",
        "test_range(4)"
      ]
    },
    {
      "cell_type": "markdown",
      "metadata": {
        "id": "Rzf1CDv0zL02"
      },
      "source": [
        "### Find the value of pi using math module."
      ]
    },
    {
      "cell_type": "code",
      "execution_count": 47,
      "metadata": {
        "colab": {
          "base_uri": "https://localhost:8080/"
        },
        "id": "YDT7IWpgzL02",
        "outputId": "8a7542a8-5322-4da9-f714-4f8a81e851ac"
      },
      "outputs": [
        {
          "output_type": "execute_result",
          "data": {
            "text/plain": [
              "3.141592653589793"
            ]
          },
          "metadata": {},
          "execution_count": 47
        }
      ],
      "source": [
        "# import statement example\n",
        "# to import standard module math\n",
        "\n",
        "import math\n",
        "math.pi\n"
      ]
    },
    {
      "cell_type": "markdown",
      "metadata": {
        "id": "gHe6S85OzL02"
      },
      "source": [
        "### Write a Python program to read an entire text file.\n",
        "\n",
        "### Content of text.txt.\n",
        "\n",
        "### What is Python language?      \n",
        "\n",
        "#### Python is a widely used high-level, general-purpose, interpreted, dynamic programming language."
      ]
    },
    {
      "cell_type": "code",
      "execution_count": 48,
      "metadata": {
        "id": "MPztML13zL02",
        "colab": {
          "base_uri": "https://localhost:8080/"
        },
        "outputId": "71105407-5416-4a67-db09-40c83fd50172"
      },
      "outputs": [
        {
          "output_type": "stream",
          "name": "stdout",
          "text": [
            "My name is gayathri\n",
            "I am in Hyderabad\n"
          ]
        }
      ],
      "source": [
        "def file_read(fname):\n",
        "    f=open(fname)\n",
        "    print(f.read())\n",
        "    return\n",
        "\n",
        "file_read('test.txt')"
      ]
    },
    {
      "cell_type": "markdown",
      "metadata": {
        "collapsed": true,
        "id": "jjM4Y-WlzL02"
      },
      "source": [
        "### Write a Python program to read a file line by line and store it into a list."
      ]
    },
    {
      "cell_type": "code",
      "execution_count": 49,
      "metadata": {
        "colab": {
          "base_uri": "https://localhost:8080/"
        },
        "id": "i1DaQjFSzL02",
        "outputId": "845d853e-b5d7-4ab9-ebeb-e3c1f0015ddd"
      },
      "outputs": [
        {
          "output_type": "stream",
          "name": "stdout",
          "text": [
            "['My name is gayathri', 'I am in Hyderabad']\n"
          ]
        }
      ],
      "source": [
        "def file_read(fname):   \n",
        "   with open(fname) as f:\n",
        "    lines = [line.rstrip() for line in f]  #rstrip strips the newline character\n",
        "    print(lines)\n",
        "   return\n",
        "\n",
        "file_read('test.txt')"
      ]
    },
    {
      "cell_type": "markdown",
      "metadata": {
        "id": "7l_5Hg-PzL02"
      },
      "source": [
        "### Write a Python program to calculate the discriminant value. (b <sup>2</sup> - 4ac)"
      ]
    },
    {
      "cell_type": "code",
      "execution_count": 50,
      "metadata": {
        "colab": {
          "base_uri": "https://localhost:8080/"
        },
        "id": "sLmEJRTjzL02",
        "outputId": "b7e97977-e545-4bd4-823b-028d024abc59"
      },
      "outputs": [
        {
          "name": "stdout",
          "output_type": "stream",
          "text": [
            "The a value: 1\n",
            "The b value: 11\n",
            "The c value: 111\n"
          ]
        },
        {
          "output_type": "execute_result",
          "data": {
            "text/plain": [
              "-323.0"
            ]
          },
          "metadata": {},
          "execution_count": 50
        }
      ],
      "source": [
        "def discriminant():\n",
        "    a_value = float(input('The a value: '))\n",
        "    b_value = float(input('The b value: '))\n",
        "    c_value = float(input('The c value: '))\n",
        "    \n",
        "    # Calculate the discriminant here\n",
        "    d_value = (b_value*b_value) - (4* a_value * c_value)\n",
        "    return d_value # The value\n",
        "\n",
        "\n",
        "discriminant()\n"
      ]
    },
    {
      "cell_type": "code",
      "execution_count": 51,
      "metadata": {
        "colab": {
          "base_uri": "https://localhost:8080/"
        },
        "id": "Mg0Mxj4ozL03",
        "outputId": "d396c848-38f2-4131-ad94-6f7b45b178e1"
      },
      "outputs": [
        {
          "output_type": "stream",
          "name": "stdout",
          "text": [
            "Hello World\n"
          ]
        }
      ],
      "source": [
        "print('Hello World')"
      ]
    },
    {
      "cell_type": "code",
      "execution_count": 52,
      "metadata": {
        "colab": {
          "base_uri": "https://localhost:8080/"
        },
        "id": "gbQiJiCxzL03",
        "outputId": "7e00f441-21f2-4df7-f04e-1432d79fa855"
      },
      "outputs": [
        {
          "output_type": "stream",
          "name": "stdout",
          "text": [
            "What am I typing are you able to see?\n"
          ]
        }
      ],
      "source": [
        "print('What am I typing are you able to see?')"
      ]
    }
  ],
  "metadata": {
    "kernelspec": {
      "display_name": "Python 3",
      "language": "python",
      "name": "python3"
    },
    "language_info": {
      "codemirror_mode": {
        "name": "ipython",
        "version": 3
      },
      "file_extension": ".py",
      "mimetype": "text/x-python",
      "name": "python",
      "nbconvert_exporter": "python",
      "pygments_lexer": "ipython3",
      "version": "3.7.6"
    },
    "colab": {
      "provenance": [],
      "include_colab_link": true
    }
  },
  "nbformat": 4,
  "nbformat_minor": 0
}