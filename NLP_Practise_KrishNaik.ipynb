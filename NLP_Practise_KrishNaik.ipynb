{
  "nbformat": 4,
  "nbformat_minor": 0,
  "metadata": {
    "colab": {
      "provenance": [],
      "authorship_tag": "ABX9TyNxKgKjWzCjnve5MDO9Kebq",
      "include_colab_link": true
    },
    "kernelspec": {
      "name": "python3",
      "display_name": "Python 3"
    },
    "language_info": {
      "name": "python"
    }
  },
  "cells": [
    {
      "cell_type": "markdown",
      "metadata": {
        "id": "view-in-github",
        "colab_type": "text"
      },
      "source": [
        "<a href=\"https://colab.research.google.com/github/gayathrig21/Miscellaneous/blob/main/NLP_Practise_KrishNaik.ipynb\" target=\"_parent\"><img src=\"https://colab.research.google.com/assets/colab-badge.svg\" alt=\"Open In Colab\"/></a>"
      ]
    },
    {
      "cell_type": "markdown",
      "source": [
        "https://www.youtube.com/watch?v=VO6PeW6AePs&list=PLZoTAELRMXVNNrHSKv36Lr3_156yCo6Nn&index=5&t=386s"
      ],
      "metadata": {
        "id": "m9ymfcTRa1kT"
      }
    },
    {
      "cell_type": "code",
      "execution_count": 1,
      "metadata": {
        "colab": {
          "base_uri": "https://localhost:8080/"
        },
        "id": "gqv_crDqTgIP",
        "outputId": "795931c0-cfea-4bd2-9414-f5d4d9b3891c"
      },
      "outputs": [
        {
          "output_type": "stream",
          "name": "stdout",
          "text": [
            "Requirement already satisfied: nltk in /usr/local/lib/python3.10/dist-packages (3.8.1)\n",
            "Requirement already satisfied: click in /usr/local/lib/python3.10/dist-packages (from nltk) (8.1.6)\n",
            "Requirement already satisfied: joblib in /usr/local/lib/python3.10/dist-packages (from nltk) (1.3.1)\n",
            "Requirement already satisfied: regex>=2021.8.3 in /usr/local/lib/python3.10/dist-packages (from nltk) (2022.10.31)\n",
            "Requirement already satisfied: tqdm in /usr/local/lib/python3.10/dist-packages (from nltk) (4.65.0)\n"
          ]
        }
      ],
      "source": [
        "!pip install nltk\n"
      ]
    },
    {
      "cell_type": "code",
      "source": [
        "corpus=\"\"\"\n",
        "Narendra Damodardas Modi (Gujarati: [ˈnəɾendɾə dɑmodəɾˈdɑs ˈmodiː] (listen); born 17 September 1950)[b] is an Indian politician who has served as the 14th Prime Minister of India since May 2014. Modi was the Chief Minister of Gujarat from 2001 to 2014 and is the Member of Parliament (MP) for Varanasi. He is a member of the Bharatiya Janata Party (BJP) and of the Rashtriya Swayamsevak Sangh (RSS), a right-wing Hindu nationalist paramilitary volunteer organisation. He is the longest-serving prime minister from outside the Indian National Congress.\n",
        "\n",
        "Modi was born and raised in Vadnagar in northeastern Gujarat, where he completed his secondary education. He was introduced to the RSS at age eight. His account of helping his father sell tea at the Vadnagar railway station has not been reliably corroborated. At age 18, he was married to Jashodaben Modi, whom he abandoned soon after, only publicly acknowledging her four decades later when legally required to do so. Modi became a full-time worker for the RSS in Gujarat in 1971. The RSS assigned him to the BJP in 1985 and he held several positions within the party hierarchy until 2001, rising to the rank of general secretary.[c]\"\"\""
      ],
      "metadata": {
        "id": "wZ7KyeoSTntw"
      },
      "execution_count": 2,
      "outputs": []
    },
    {
      "cell_type": "code",
      "source": [
        "corpus"
      ],
      "metadata": {
        "colab": {
          "base_uri": "https://localhost:8080/",
          "height": 105
        },
        "id": "DgBuay6kUVRn",
        "outputId": "34e92089-d7ae-4167-d1cf-3833149fe4cb"
      },
      "execution_count": 3,
      "outputs": [
        {
          "output_type": "execute_result",
          "data": {
            "text/plain": [
              "'\\nNarendra Damodardas Modi (Gujarati: [ˈnəɾendɾə dɑmodəɾˈdɑs ˈmodiː] (listen); born 17 September 1950)[b] is an Indian politician who has served as the 14th Prime Minister of India since May 2014. Modi was the Chief Minister of Gujarat from 2001 to 2014 and is the Member of Parliament (MP) for Varanasi. He is a member of the Bharatiya Janata Party (BJP) and of the Rashtriya Swayamsevak Sangh (RSS), a right-wing Hindu nationalist paramilitary volunteer organisation. He is the longest-serving prime minister from outside the Indian National Congress.\\n\\nModi was born and raised in Vadnagar in northeastern Gujarat, where he completed his secondary education. He was introduced to the RSS at age eight. His account of helping his father sell tea at the Vadnagar railway station has not been reliably corroborated. At age 18, he was married to Jashodaben Modi, whom he abandoned soon after, only publicly acknowledging her four decades later when legally required to do so. Modi became a full-time worker for the RSS in Gujarat in 1971. The RSS assigned him to the BJP in 1985 and he held several positions within the party hierarchy until 2001, rising to the rank of general secretary.[c]'"
            ],
            "application/vnd.google.colaboratory.intrinsic+json": {
              "type": "string"
            }
          },
          "metadata": {},
          "execution_count": 3
        }
      ]
    },
    {
      "cell_type": "code",
      "source": [
        "import nltk\n",
        "nltk.download('wordnet')\n",
        "nltk.download('stopwords')\n",
        "from nltk.stem import PorterStemmer , WordNetLemmatizer\n",
        "from nltk.corpus import stopwords"
      ],
      "metadata": {
        "colab": {
          "base_uri": "https://localhost:8080/"
        },
        "id": "mvPZRTB0Uk9i",
        "outputId": "cb24d828-7025-4de8-b04a-76a9c62b32f0"
      },
      "execution_count": 4,
      "outputs": [
        {
          "output_type": "stream",
          "name": "stderr",
          "text": [
            "[nltk_data] Downloading package wordnet to /root/nltk_data...\n",
            "[nltk_data] Downloading package stopwords to /root/nltk_data...\n",
            "[nltk_data]   Unzipping corpora/stopwords.zip.\n"
          ]
        }
      ]
    },
    {
      "cell_type": "code",
      "source": [
        "## tokenization - converts paragraph to words\n",
        "nltk.download('punkt')\n",
        "sentences = nltk.sent_tokenize(corpus)"
      ],
      "metadata": {
        "colab": {
          "base_uri": "https://localhost:8080/"
        },
        "id": "RZ0gGZ6tU23z",
        "outputId": "6ebcfaec-36c1-4fa3-d114-72a182cb2ffe"
      },
      "execution_count": 5,
      "outputs": [
        {
          "output_type": "stream",
          "name": "stderr",
          "text": [
            "[nltk_data] Downloading package punkt to /root/nltk_data...\n",
            "[nltk_data]   Unzipping tokenizers/punkt.zip.\n"
          ]
        }
      ]
    },
    {
      "cell_type": "code",
      "source": [
        "sentences[0]"
      ],
      "metadata": {
        "colab": {
          "base_uri": "https://localhost:8080/",
          "height": 35
        },
        "id": "f6ea6EX6VNn6",
        "outputId": "3f24cb9a-03a4-48d6-f5f6-5fd85a63af9c"
      },
      "execution_count": 6,
      "outputs": [
        {
          "output_type": "execute_result",
          "data": {
            "text/plain": [
              "'\\nNarendra Damodardas Modi (Gujarati: [ˈnəɾendɾə dɑmodəɾˈdɑs ˈmodiː] (listen); born 17 September 1950)[b] is an Indian politician who has served as the 14th Prime Minister of India since May 2014.'"
            ],
            "application/vnd.google.colaboratory.intrinsic+json": {
              "type": "string"
            }
          },
          "metadata": {},
          "execution_count": 6
        }
      ]
    },
    {
      "cell_type": "code",
      "source": [
        "stemmer= PorterStemmer()"
      ],
      "metadata": {
        "id": "ioo_nMZ8VYLM"
      },
      "execution_count": 7,
      "outputs": []
    },
    {
      "cell_type": "code",
      "source": [
        "stemmer.stem('thinking')"
      ],
      "metadata": {
        "colab": {
          "base_uri": "https://localhost:8080/",
          "height": 35
        },
        "id": "jXuwZ0GoVfDX",
        "outputId": "dac06502-b67f-42a0-ce82-6d514f2641b8"
      },
      "execution_count": 8,
      "outputs": [
        {
          "output_type": "execute_result",
          "data": {
            "text/plain": [
              "'think'"
            ],
            "application/vnd.google.colaboratory.intrinsic+json": {
              "type": "string"
            }
          },
          "metadata": {},
          "execution_count": 8
        }
      ]
    },
    {
      "cell_type": "code",
      "source": [
        "stemmer.stem('history')"
      ],
      "metadata": {
        "colab": {
          "base_uri": "https://localhost:8080/",
          "height": 35
        },
        "id": "gNg2L1_QWb4m",
        "outputId": "854c4742-3c13-443f-c6b7-64df197ad6f9"
      },
      "execution_count": 9,
      "outputs": [
        {
          "output_type": "execute_result",
          "data": {
            "text/plain": [
              "'histori'"
            ],
            "application/vnd.google.colaboratory.intrinsic+json": {
              "type": "string"
            }
          },
          "metadata": {},
          "execution_count": 9
        }
      ]
    },
    {
      "cell_type": "code",
      "source": [
        "stemmer.stem('goes')"
      ],
      "metadata": {
        "colab": {
          "base_uri": "https://localhost:8080/",
          "height": 35
        },
        "id": "HVHg_PPjWrXO",
        "outputId": "a19b0228-a38c-435b-c2bf-38274067bb6d"
      },
      "execution_count": 10,
      "outputs": [
        {
          "output_type": "execute_result",
          "data": {
            "text/plain": [
              "'goe'"
            ],
            "application/vnd.google.colaboratory.intrinsic+json": {
              "type": "string"
            }
          },
          "metadata": {},
          "execution_count": 10
        }
      ]
    },
    {
      "cell_type": "code",
      "source": [
        "lemmatizer= WordNetLemmatizer()"
      ],
      "metadata": {
        "id": "Yj6ZsKLOVi-x"
      },
      "execution_count": 11,
      "outputs": []
    },
    {
      "cell_type": "code",
      "source": [
        "lemmatizer.lemmatize('going')"
      ],
      "metadata": {
        "colab": {
          "base_uri": "https://localhost:8080/",
          "height": 35
        },
        "id": "VTFa3yq0V4XA",
        "outputId": "41fdd029-17ce-4502-fced-eadddea90b5e"
      },
      "execution_count": 12,
      "outputs": [
        {
          "output_type": "execute_result",
          "data": {
            "text/plain": [
              "'going'"
            ],
            "application/vnd.google.colaboratory.intrinsic+json": {
              "type": "string"
            }
          },
          "metadata": {},
          "execution_count": 12
        }
      ]
    },
    {
      "cell_type": "code",
      "source": [
        "lemmatizer.lemmatize('goes')"
      ],
      "metadata": {
        "colab": {
          "base_uri": "https://localhost:8080/",
          "height": 35
        },
        "id": "u3ZJLmz3Wno2",
        "outputId": "c1d198e2-a63f-4702-89d3-b8d2c24da6e1"
      },
      "execution_count": 13,
      "outputs": [
        {
          "output_type": "execute_result",
          "data": {
            "text/plain": [
              "'go'"
            ],
            "application/vnd.google.colaboratory.intrinsic+json": {
              "type": "string"
            }
          },
          "metadata": {},
          "execution_count": 13
        }
      ]
    },
    {
      "cell_type": "code",
      "source": [
        "lemmatizer.lemmatize('historical')"
      ],
      "metadata": {
        "colab": {
          "base_uri": "https://localhost:8080/",
          "height": 35
        },
        "id": "GgLApwTIVSKA",
        "outputId": "295a1d26-8a50-4bbe-fdcb-58aacb280221"
      },
      "execution_count": 14,
      "outputs": [
        {
          "output_type": "execute_result",
          "data": {
            "text/plain": [
              "'historical'"
            ],
            "application/vnd.google.colaboratory.intrinsic+json": {
              "type": "string"
            }
          },
          "metadata": {},
          "execution_count": 14
        }
      ]
    },
    {
      "cell_type": "code",
      "source": [
        "len(sentences)"
      ],
      "metadata": {
        "colab": {
          "base_uri": "https://localhost:8080/"
        },
        "id": "7JtRHU7FWt3Q",
        "outputId": "8d9ba5ce-46fd-4943-b625-dce88caf70d5"
      },
      "execution_count": 15,
      "outputs": [
        {
          "output_type": "execute_result",
          "data": {
            "text/plain": [
              "11"
            ]
          },
          "metadata": {},
          "execution_count": 15
        }
      ]
    },
    {
      "cell_type": "code",
      "source": [
        "import re"
      ],
      "metadata": {
        "id": "xqrVlBM6WyCk"
      },
      "execution_count": 16,
      "outputs": []
    },
    {
      "cell_type": "code",
      "source": [
        "corpus=[]\n",
        "for i in range(len(sentences)):\n",
        "  review= re.sub('[^a-zA-Z]',' ',sentences[i])\n",
        "  review = review.lower()\n",
        "  corpus.append(review)"
      ],
      "metadata": {
        "id": "6teCXTAuW0DD"
      },
      "execution_count": 17,
      "outputs": []
    },
    {
      "cell_type": "code",
      "source": [
        "corpus"
      ],
      "metadata": {
        "colab": {
          "base_uri": "https://localhost:8080/"
        },
        "id": "hWdMfeumXPXl",
        "outputId": "af94f330-00c9-4928-d56a-6a38447af709"
      },
      "execution_count": 18,
      "outputs": [
        {
          "output_type": "execute_result",
          "data": {
            "text/plain": [
              "[' narendra damodardas modi  gujarati    n  end   d mod   d s  modi    listen   born    september       b  is an indian politician who has served as the   th prime minister of india since may      ',\n",
              " 'modi was the chief minister of gujarat from      to      and is the member of parliament  mp  for varanasi ',\n",
              " 'he is a member of the bharatiya janata party  bjp  and of the rashtriya swayamsevak sangh  rss   a right wing hindu nationalist paramilitary volunteer organisation ',\n",
              " 'he is the longest serving prime minister from outside the indian national congress ',\n",
              " 'modi was born and raised in vadnagar in northeastern gujarat  where he completed his secondary education ',\n",
              " 'he was introduced to the rss at age eight ',\n",
              " 'his account of helping his father sell tea at the vadnagar railway station has not been reliably corroborated ',\n",
              " 'at age     he was married to jashodaben modi  whom he abandoned soon after  only publicly acknowledging her four decades later when legally required to do so ',\n",
              " 'modi became a full time worker for the rss in gujarat in      ',\n",
              " 'the rss assigned him to the bjp in      and he held several positions within the party hierarchy until       rising to the rank of general secretary ',\n",
              " ' c ']"
            ]
          },
          "metadata": {},
          "execution_count": 18
        }
      ]
    },
    {
      "cell_type": "code",
      "source": [
        "for i in corpus:\n",
        "  words=nltk.word_tokenize(i)\n",
        "  print(len(words))\n",
        "  for word in words:\n",
        "    if word not in set(stopwords.words('english')):\n",
        "      print(stemmer.stem(word))"
      ],
      "metadata": {
        "colab": {
          "base_uri": "https://localhost:8080/"
        },
        "id": "-dcQaR1EXdOt",
        "outputId": "1f39c889-a75e-4443-b8a1-8e1a1a536bdf"
      },
      "execution_count": 19,
      "outputs": [
        {
          "output_type": "stream",
          "name": "stdout",
          "text": [
            "31\n",
            "narendra\n",
            "damodarda\n",
            "modi\n",
            "gujarati\n",
            "n\n",
            "end\n",
            "mod\n",
            "modi\n",
            "listen\n",
            "born\n",
            "septemb\n",
            "b\n",
            "indian\n",
            "politician\n",
            "serv\n",
            "th\n",
            "prime\n",
            "minist\n",
            "india\n",
            "sinc\n",
            "may\n",
            "18\n",
            "modi\n",
            "chief\n",
            "minist\n",
            "gujarat\n",
            "member\n",
            "parliament\n",
            "mp\n",
            "varanasi\n",
            "25\n",
            "member\n",
            "bharatiya\n",
            "janata\n",
            "parti\n",
            "bjp\n",
            "rashtriya\n",
            "swayamsevak\n",
            "sangh\n",
            "rss\n",
            "right\n",
            "wing\n",
            "hindu\n",
            "nationalist\n",
            "paramilitari\n",
            "volunt\n",
            "organis\n",
            "13\n",
            "longest\n",
            "serv\n",
            "prime\n",
            "minist\n",
            "outsid\n",
            "indian\n",
            "nation\n",
            "congress\n",
            "16\n",
            "modi\n",
            "born\n",
            "rais\n",
            "vadnagar\n",
            "northeastern\n",
            "gujarat\n",
            "complet\n",
            "secondari\n",
            "educ\n",
            "9\n",
            "introduc\n",
            "rss\n",
            "age\n",
            "eight\n",
            "18\n",
            "account\n",
            "help\n",
            "father\n",
            "sell\n",
            "tea\n",
            "vadnagar\n",
            "railway\n",
            "station\n",
            "reliabl\n",
            "corrobor\n",
            "26\n",
            "age\n",
            "marri\n",
            "jashodaben\n",
            "modi\n",
            "abandon\n",
            "soon\n",
            "publicli\n",
            "acknowledg\n",
            "four\n",
            "decad\n",
            "later\n",
            "legal\n",
            "requir\n",
            "12\n",
            "modi\n",
            "becam\n",
            "full\n",
            "time\n",
            "worker\n",
            "rss\n",
            "gujarat\n",
            "25\n",
            "rss\n",
            "assign\n",
            "bjp\n",
            "held\n",
            "sever\n",
            "posit\n",
            "within\n",
            "parti\n",
            "hierarchi\n",
            "rise\n",
            "rank\n",
            "gener\n",
            "secretari\n",
            "1\n",
            "c\n"
          ]
        }
      ]
    },
    {
      "cell_type": "code",
      "source": [
        "for i in corpus:\n",
        "  words=nltk.word_tokenize(i)\n",
        "  print(len(words))\n",
        "  for word in words:\n",
        "    if word not in set(stopwords.words('english')):\n",
        "      print(lemmatizer.lemmatize(word))"
      ],
      "metadata": {
        "colab": {
          "base_uri": "https://localhost:8080/"
        },
        "id": "d9QKjGuEZEwa",
        "outputId": "d821a699-bd0b-4565-b077-4f857ed9144a"
      },
      "execution_count": 20,
      "outputs": [
        {
          "output_type": "stream",
          "name": "stdout",
          "text": [
            "31\n",
            "narendra\n",
            "damodardas\n",
            "modi\n",
            "gujarati\n",
            "n\n",
            "end\n",
            "mod\n",
            "modi\n",
            "listen\n",
            "born\n",
            "september\n",
            "b\n",
            "indian\n",
            "politician\n",
            "served\n",
            "th\n",
            "prime\n",
            "minister\n",
            "india\n",
            "since\n",
            "may\n",
            "18\n",
            "modi\n",
            "chief\n",
            "minister\n",
            "gujarat\n",
            "member\n",
            "parliament\n",
            "mp\n",
            "varanasi\n",
            "25\n",
            "member\n",
            "bharatiya\n",
            "janata\n",
            "party\n",
            "bjp\n",
            "rashtriya\n",
            "swayamsevak\n",
            "sangh\n",
            "r\n",
            "right\n",
            "wing\n",
            "hindu\n",
            "nationalist\n",
            "paramilitary\n",
            "volunteer\n",
            "organisation\n",
            "13\n",
            "longest\n",
            "serving\n",
            "prime\n",
            "minister\n",
            "outside\n",
            "indian\n",
            "national\n",
            "congress\n",
            "16\n",
            "modi\n",
            "born\n",
            "raised\n",
            "vadnagar\n",
            "northeastern\n",
            "gujarat\n",
            "completed\n",
            "secondary\n",
            "education\n",
            "9\n",
            "introduced\n",
            "r\n",
            "age\n",
            "eight\n",
            "18\n",
            "account\n",
            "helping\n",
            "father\n",
            "sell\n",
            "tea\n",
            "vadnagar\n",
            "railway\n",
            "station\n",
            "reliably\n",
            "corroborated\n",
            "26\n",
            "age\n",
            "married\n",
            "jashodaben\n",
            "modi\n",
            "abandoned\n",
            "soon\n",
            "publicly\n",
            "acknowledging\n",
            "four\n",
            "decade\n",
            "later\n",
            "legally\n",
            "required\n",
            "12\n",
            "modi\n",
            "became\n",
            "full\n",
            "time\n",
            "worker\n",
            "r\n",
            "gujarat\n",
            "25\n",
            "r\n",
            "assigned\n",
            "bjp\n",
            "held\n",
            "several\n",
            "position\n",
            "within\n",
            "party\n",
            "hierarchy\n",
            "rising\n",
            "rank\n",
            "general\n",
            "secretary\n",
            "1\n",
            "c\n"
          ]
        }
      ]
    },
    {
      "cell_type": "code",
      "source": [
        "from sklearn.feature_extraction.text import CountVectorizer\n",
        "cv=CountVectorizer()"
      ],
      "metadata": {
        "id": "beO7Mqr9ZTEb"
      },
      "execution_count": 21,
      "outputs": []
    },
    {
      "cell_type": "code",
      "source": [
        "X=cv.fit_transform(corpus)\n",
        "cv.vocabulary_"
      ],
      "metadata": {
        "colab": {
          "base_uri": "https://localhost:8080/"
        },
        "id": "h3_HFWurZssU",
        "outputId": "4ed71dc5-800a-4f58-cd15-675493b6fe7b"
      },
      "execution_count": 22,
      "outputs": [
        {
          "output_type": "execute_result",
          "data": {
            "text/plain": [
              "{'narendra': 60,\n",
              " 'damodardas': 19,\n",
              " 'modi': 58,\n",
              " 'gujarati': 32,\n",
              " 'end': 24,\n",
              " 'mod': 57,\n",
              " 'listen': 51,\n",
              " 'born': 14,\n",
              " 'september': 89,\n",
              " 'is': 46,\n",
              " 'an': 5,\n",
              " 'indian': 44,\n",
              " 'politician': 72,\n",
              " 'who': 110,\n",
              " 'has': 33,\n",
              " 'served': 90,\n",
              " 'as': 7,\n",
              " 'the': 100,\n",
              " 'th': 99,\n",
              " 'prime': 74,\n",
              " 'minister': 56,\n",
              " 'of': 65,\n",
              " 'india': 43,\n",
              " 'since': 93,\n",
              " 'may': 54,\n",
              " 'was': 107,\n",
              " 'chief': 15,\n",
              " 'gujarat': 31,\n",
              " 'from': 28,\n",
              " 'to': 102,\n",
              " 'and': 6,\n",
              " 'member': 55,\n",
              " 'parliament': 70,\n",
              " 'mp': 59,\n",
              " 'for': 26,\n",
              " 'varanasi': 105,\n",
              " 'he': 34,\n",
              " 'bharatiya': 12,\n",
              " 'janata': 47,\n",
              " 'party': 71,\n",
              " 'bjp': 13,\n",
              " 'rashtriya': 79,\n",
              " 'swayamsevak': 97,\n",
              " 'sangh': 85,\n",
              " 'rss': 84,\n",
              " 'right': 82,\n",
              " 'wing': 112,\n",
              " 'hindu': 40,\n",
              " 'nationalist': 62,\n",
              " 'paramilitary': 69,\n",
              " 'volunteer': 106,\n",
              " 'organisation': 67,\n",
              " 'longest': 52,\n",
              " 'serving': 91,\n",
              " 'outside': 68,\n",
              " 'national': 61,\n",
              " 'congress': 17,\n",
              " 'raised': 77,\n",
              " 'in': 42,\n",
              " 'vadnagar': 104,\n",
              " 'northeastern': 63,\n",
              " 'where': 109,\n",
              " 'completed': 16,\n",
              " 'his': 41,\n",
              " 'secondary': 86,\n",
              " 'education': 22,\n",
              " 'introduced': 45,\n",
              " 'at': 9,\n",
              " 'age': 4,\n",
              " 'eight': 23,\n",
              " 'account': 1,\n",
              " 'helping': 36,\n",
              " 'father': 25,\n",
              " 'sell': 88,\n",
              " 'tea': 98,\n",
              " 'railway': 76,\n",
              " 'station': 96,\n",
              " 'not': 64,\n",
              " 'been': 11,\n",
              " 'reliably': 80,\n",
              " 'corroborated': 18,\n",
              " 'married': 53,\n",
              " 'jashodaben': 48,\n",
              " 'whom': 111,\n",
              " 'abandoned': 0,\n",
              " 'soon': 95,\n",
              " 'after': 3,\n",
              " 'only': 66,\n",
              " 'publicly': 75,\n",
              " 'acknowledging': 2,\n",
              " 'her': 37,\n",
              " 'four': 27,\n",
              " 'decades': 20,\n",
              " 'later': 49,\n",
              " 'when': 108,\n",
              " 'legally': 50,\n",
              " 'required': 81,\n",
              " 'do': 21,\n",
              " 'so': 94,\n",
              " 'became': 10,\n",
              " 'full': 29,\n",
              " 'time': 101,\n",
              " 'worker': 114,\n",
              " 'assigned': 8,\n",
              " 'him': 39,\n",
              " 'held': 35,\n",
              " 'several': 92,\n",
              " 'positions': 73,\n",
              " 'within': 113,\n",
              " 'hierarchy': 38,\n",
              " 'until': 103,\n",
              " 'rising': 83,\n",
              " 'rank': 78,\n",
              " 'general': 30,\n",
              " 'secretary': 87}"
            ]
          },
          "metadata": {},
          "execution_count": 22
        }
      ]
    },
    {
      "cell_type": "code",
      "source": [
        "corpus[0]"
      ],
      "metadata": {
        "colab": {
          "base_uri": "https://localhost:8080/",
          "height": 35
        },
        "id": "_76suV2WaDwW",
        "outputId": "7620f135-d352-43d4-ddb2-e4d2c7e39216"
      },
      "execution_count": 23,
      "outputs": [
        {
          "output_type": "execute_result",
          "data": {
            "text/plain": [
              "' narendra damodardas modi  gujarati    n  end   d mod   d s  modi    listen   born    september       b  is an indian politician who has served as the   th prime minister of india since may      '"
            ],
            "application/vnd.google.colaboratory.intrinsic+json": {
              "type": "string"
            }
          },
          "metadata": {},
          "execution_count": 23
        }
      ]
    },
    {
      "cell_type": "code",
      "source": [
        "  X[0].toarray()"
      ],
      "metadata": {
        "colab": {
          "base_uri": "https://localhost:8080/"
        },
        "id": "Dgi05tsXaGTy",
        "outputId": "9ec35f37-40e0-4aaa-b82f-6669a1a81abf"
      },
      "execution_count": 24,
      "outputs": [
        {
          "output_type": "execute_result",
          "data": {
            "text/plain": [
              "array([[0, 0, 0, 0, 0, 1, 0, 1, 0, 0, 0, 0, 0, 0, 1, 0, 0, 0, 0, 1, 0, 0,\n",
              "        0, 0, 1, 0, 0, 0, 0, 0, 0, 0, 1, 1, 0, 0, 0, 0, 0, 0, 0, 0, 0, 1,\n",
              "        1, 0, 1, 0, 0, 0, 0, 1, 0, 0, 1, 0, 1, 1, 2, 0, 1, 0, 0, 0, 0, 1,\n",
              "        0, 0, 0, 0, 0, 0, 1, 0, 1, 0, 0, 0, 0, 0, 0, 0, 0, 0, 0, 0, 0, 0,\n",
              "        0, 1, 1, 0, 0, 1, 0, 0, 0, 0, 0, 1, 1, 0, 0, 0, 0, 0, 0, 0, 0, 0,\n",
              "        1, 0, 0, 0, 0]])"
            ]
          },
          "metadata": {},
          "execution_count": 24
        }
      ]
    },
    {
      "cell_type": "code",
      "source": [
        "from sklearn.feature_extraction.text import CountVectorizer\n",
        "cv=CountVectorizer(ngram_range=(3,3))"
      ],
      "metadata": {
        "id": "UdmYG9qNg8pu"
      },
      "execution_count": 25,
      "outputs": []
    },
    {
      "cell_type": "code",
      "source": [
        "X=cv.fit_transform(corpus)\n",
        "cv.vocabulary_"
      ],
      "metadata": {
        "id": "XTpq58ZlhFZE",
        "outputId": "ebb5e499-24c3-406d-bbd3-a88c5471a0bf",
        "colab": {
          "base_uri": "https://localhost:8080/"
        }
      },
      "execution_count": 26,
      "outputs": [
        {
          "output_type": "execute_result",
          "data": {
            "text/plain": [
              "{'narendra damodardas modi': 86,\n",
              " 'damodardas modi gujarati': 24,\n",
              " 'modi gujarati end': 80,\n",
              " 'gujarati end mod': 35,\n",
              " 'end mod modi': 26,\n",
              " 'mod modi listen': 78,\n",
              " 'modi listen born': 81,\n",
              " 'listen born september': 70,\n",
              " 'born september is': 21,\n",
              " 'september is an': 121,\n",
              " 'is an indian': 62,\n",
              " 'an indian politician': 5,\n",
              " 'indian politician who': 60,\n",
              " 'politician who has': 103,\n",
              " 'who has served': 160,\n",
              " 'has served as': 37,\n",
              " 'served as the': 122,\n",
              " 'as the th': 10,\n",
              " 'the th prime': 142,\n",
              " 'th prime minister': 129,\n",
              " 'prime minister of': 106,\n",
              " 'minister of india': 77,\n",
              " 'of india since': 93,\n",
              " 'india since may': 58,\n",
              " 'modi was the': 83,\n",
              " 'was the chief': 157,\n",
              " 'the chief minister': 132,\n",
              " 'chief minister of': 22,\n",
              " 'minister of gujarat': 76,\n",
              " 'of gujarat from': 91,\n",
              " 'gujarat from to': 33,\n",
              " 'from to and': 31,\n",
              " 'to and is': 145,\n",
              " 'and is the': 7,\n",
              " 'is the member': 65,\n",
              " 'the member of': 135,\n",
              " 'member of parliament': 73,\n",
              " 'of parliament mp': 94,\n",
              " 'parliament mp for': 100,\n",
              " 'mp for varanasi': 85,\n",
              " 'he is member': 41,\n",
              " 'is member of': 63,\n",
              " 'member of the': 74,\n",
              " 'of the bharatiya': 95,\n",
              " 'the bharatiya janata': 130,\n",
              " 'bharatiya janata party': 17,\n",
              " 'janata party bjp': 66,\n",
              " 'party bjp and': 101,\n",
              " 'bjp and of': 18,\n",
              " 'and of the': 8,\n",
              " 'of the rashtriya': 96,\n",
              " 'the rashtriya swayamsevak': 138,\n",
              " 'rashtriya swayamsevak sangh': 111,\n",
              " 'swayamsevak sangh rss': 127,\n",
              " 'sangh rss right': 119,\n",
              " 'rss right wing': 118,\n",
              " 'right wing hindu': 113,\n",
              " 'wing hindu nationalist': 162,\n",
              " 'hindu nationalist paramilitary': 50,\n",
              " 'nationalist paramilitary volunteer': 87,\n",
              " 'paramilitary volunteer organisation': 99,\n",
              " 'he is the': 42,\n",
              " 'is the longest': 64,\n",
              " 'the longest serving': 134,\n",
              " 'longest serving prime': 71,\n",
              " 'serving prime minister': 123,\n",
              " 'prime minister from': 105,\n",
              " 'minister from outside': 75,\n",
              " 'from outside the': 30,\n",
              " 'outside the indian': 98,\n",
              " 'the indian national': 133,\n",
              " 'indian national congress': 59,\n",
              " 'modi was born': 82,\n",
              " 'was born and': 154,\n",
              " 'born and raised': 20,\n",
              " 'and raised in': 9,\n",
              " 'raised in vadnagar': 109,\n",
              " 'in vadnagar in': 57,\n",
              " 'vadnagar in northeastern': 152,\n",
              " 'in northeastern gujarat': 56,\n",
              " 'northeastern gujarat where': 88,\n",
              " 'gujarat where he': 34,\n",
              " 'where he completed': 159,\n",
              " 'he completed his': 39,\n",
              " 'completed his secondary': 23,\n",
              " 'his secondary education': 53,\n",
              " 'he was introduced': 43,\n",
              " 'was introduced to': 155,\n",
              " 'introduced to the': 61,\n",
              " 'to the rss': 150,\n",
              " 'the rss at': 140,\n",
              " 'rss at age': 116,\n",
              " 'at age eight': 12,\n",
              " 'his account of': 51,\n",
              " 'account of helping': 1,\n",
              " 'of helping his': 92,\n",
              " 'helping his father': 46,\n",
              " 'his father sell': 52,\n",
              " 'father sell tea': 27,\n",
              " 'sell tea at': 120,\n",
              " 'tea at the': 128,\n",
              " 'at the vadnagar': 14,\n",
              " 'the vadnagar railway': 143,\n",
              " 'vadnagar railway station': 153,\n",
              " 'railway station has': 108,\n",
              " 'station has not': 126,\n",
              " 'has not been': 36,\n",
              " 'not been reliably': 89,\n",
              " 'been reliably corroborated': 16,\n",
              " 'at age he': 13,\n",
              " 'age he was': 4,\n",
              " 'he was married': 44,\n",
              " 'was married to': 156,\n",
              " 'married to jashodaben': 72,\n",
              " 'to jashodaben modi': 147,\n",
              " 'jashodaben modi whom': 67,\n",
              " 'modi whom he': 84,\n",
              " 'whom he abandoned': 161,\n",
              " 'he abandoned soon': 38,\n",
              " 'abandoned soon after': 0,\n",
              " 'soon after only': 125,\n",
              " 'after only publicly': 3,\n",
              " 'only publicly acknowledging': 97,\n",
              " 'publicly acknowledging her': 107,\n",
              " 'acknowledging her four': 2,\n",
              " 'her four decades': 47,\n",
              " 'four decades later': 29,\n",
              " 'decades later when': 25,\n",
              " 'later when legally': 68,\n",
              " 'when legally required': 158,\n",
              " 'legally required to': 69,\n",
              " 'required to do': 112,\n",
              " 'to do so': 146,\n",
              " 'modi became full': 79,\n",
              " 'became full time': 15,\n",
              " 'full time worker': 32,\n",
              " 'time worker for': 144,\n",
              " 'worker for the': 164,\n",
              " 'for the rss': 28,\n",
              " 'the rss in': 141,\n",
              " 'rss in gujarat': 117,\n",
              " 'in gujarat in': 55,\n",
              " 'the rss assigned': 139,\n",
              " 'rss assigned him': 115,\n",
              " 'assigned him to': 11,\n",
              " 'him to the': 49,\n",
              " 'to the bjp': 148,\n",
              " 'the bjp in': 131,\n",
              " 'bjp in and': 19,\n",
              " 'in and he': 54,\n",
              " 'and he held': 6,\n",
              " 'he held several': 40,\n",
              " 'held several positions': 45,\n",
              " 'several positions within': 124,\n",
              " 'positions within the': 104,\n",
              " 'within the party': 163,\n",
              " 'the party hierarchy': 136,\n",
              " 'party hierarchy until': 102,\n",
              " 'hierarchy until rising': 48,\n",
              " 'until rising to': 151,\n",
              " 'rising to the': 114,\n",
              " 'to the rank': 149,\n",
              " 'the rank of': 137,\n",
              " 'rank of general': 110,\n",
              " 'of general secretary': 90}"
            ]
          },
          "metadata": {},
          "execution_count": 26
        }
      ]
    },
    {
      "cell_type": "code",
      "source": [
        "corpus[0]"
      ],
      "metadata": {
        "id": "0F6Yg0pghlmz",
        "outputId": "38c7a1e9-6a54-4921-dc23-feae34ee6e91",
        "colab": {
          "base_uri": "https://localhost:8080/",
          "height": 35
        }
      },
      "execution_count": 27,
      "outputs": [
        {
          "output_type": "execute_result",
          "data": {
            "text/plain": [
              "' narendra damodardas modi  gujarati    n  end   d mod   d s  modi    listen   born    september       b  is an indian politician who has served as the   th prime minister of india since may      '"
            ],
            "application/vnd.google.colaboratory.intrinsic+json": {
              "type": "string"
            }
          },
          "metadata": {},
          "execution_count": 27
        }
      ]
    },
    {
      "cell_type": "code",
      "source": [
        "X[0].toarray()"
      ],
      "metadata": {
        "id": "3ybrcyg_hng2",
        "outputId": "a54715d3-c60e-48c0-86c7-0ff9dcbbb6c9",
        "colab": {
          "base_uri": "https://localhost:8080/"
        }
      },
      "execution_count": 28,
      "outputs": [
        {
          "output_type": "execute_result",
          "data": {
            "text/plain": [
              "array([[0, 0, 0, 0, 0, 1, 0, 0, 0, 0, 1, 0, 0, 0, 0, 0, 0, 0, 0, 0, 0, 1,\n",
              "        0, 0, 1, 0, 1, 0, 0, 0, 0, 0, 0, 0, 0, 1, 0, 1, 0, 0, 0, 0, 0, 0,\n",
              "        0, 0, 0, 0, 0, 0, 0, 0, 0, 0, 0, 0, 0, 0, 1, 0, 1, 0, 1, 0, 0, 0,\n",
              "        0, 0, 0, 0, 1, 0, 0, 0, 0, 0, 0, 1, 1, 0, 1, 1, 0, 0, 0, 0, 1, 0,\n",
              "        0, 0, 0, 0, 0, 1, 0, 0, 0, 0, 0, 0, 0, 0, 0, 1, 0, 0, 1, 0, 0, 0,\n",
              "        0, 0, 0, 0, 0, 0, 0, 0, 0, 0, 0, 1, 1, 0, 0, 0, 0, 0, 0, 1, 0, 0,\n",
              "        0, 0, 0, 0, 0, 0, 0, 0, 0, 0, 1, 0, 0, 0, 0, 0, 0, 0, 0, 0, 0, 0,\n",
              "        0, 0, 0, 0, 0, 0, 1, 0, 0, 0, 0]])"
            ]
          },
          "metadata": {},
          "execution_count": 28
        }
      ]
    },
    {
      "cell_type": "code",
      "source": [
        "\n",
        "##TF IDF\n",
        "\n",
        "from sklearn.feature_extraction.text import TfidfVectorizer\n",
        "cv=TfidfVectorizer()\n",
        "X= cv.fit_transform(corpus)\n",
        "\n"
      ],
      "metadata": {
        "id": "U5Zkpju5hswn"
      },
      "execution_count": 30,
      "outputs": []
    },
    {
      "cell_type": "code",
      "source": [
        "corpus[0]"
      ],
      "metadata": {
        "id": "_-SBWVNJWRHG",
        "outputId": "029a881f-1610-41d5-a98e-027aaa762f9f",
        "colab": {
          "base_uri": "https://localhost:8080/",
          "height": 35
        }
      },
      "execution_count": 31,
      "outputs": [
        {
          "output_type": "execute_result",
          "data": {
            "text/plain": [
              "' narendra damodardas modi  gujarati    n  end   d mod   d s  modi    listen   born    september       b  is an indian politician who has served as the   th prime minister of india since may      '"
            ],
            "application/vnd.google.colaboratory.intrinsic+json": {
              "type": "string"
            }
          },
          "metadata": {},
          "execution_count": 31
        }
      ]
    },
    {
      "cell_type": "code",
      "source": [
        "X.toarray()"
      ],
      "metadata": {
        "id": "cHfDJ5HPWVK1",
        "outputId": "9a33920d-b46b-4741-fe0e-f50441fa3fef",
        "colab": {
          "base_uri": "https://localhost:8080/"
        }
      },
      "execution_count": 32,
      "outputs": [
        {
          "output_type": "execute_result",
          "data": {
            "text/plain": [
              "array([[0.        , 0.        , 0.        , ..., 0.        , 0.        ,\n",
              "        0.        ],\n",
              "       [0.        , 0.        , 0.        , ..., 0.        , 0.        ,\n",
              "        0.        ],\n",
              "       [0.        , 0.        , 0.        , ..., 0.23458474, 0.        ,\n",
              "        0.        ],\n",
              "       ...,\n",
              "       [0.        , 0.        , 0.        , ..., 0.        , 0.        ,\n",
              "        0.34123784],\n",
              "       [0.        , 0.        , 0.        , ..., 0.        , 0.21921311,\n",
              "        0.        ],\n",
              "       [0.        , 0.        , 0.        , ..., 0.        , 0.        ,\n",
              "        0.        ]])"
            ]
          },
          "metadata": {},
          "execution_count": 32
        }
      ]
    },
    {
      "cell_type": "code",
      "source": [
        "from sklearn.feature_extraction.text import TfidfVectorizer\n",
        "cv=TfidfVectorizer(ngram_range=(3,3))\n",
        "X= cv.fit_transform(corpus)"
      ],
      "metadata": {
        "id": "PQG4NlG2Wi6I"
      },
      "execution_count": 34,
      "outputs": []
    },
    {
      "cell_type": "code",
      "source": [
        "X.toarray()"
      ],
      "metadata": {
        "id": "v8lGJxTbW0HF",
        "outputId": "0a4fe268-8432-4e5b-fc0d-e1813b6033f7",
        "colab": {
          "base_uri": "https://localhost:8080/"
        }
      },
      "execution_count": 35,
      "outputs": [
        {
          "output_type": "execute_result",
          "data": {
            "text/plain": [
              "array([[0.        , 0.        , 0.        , ..., 0.        , 0.        ,\n",
              "        0.        ],\n",
              "       [0.        , 0.        , 0.        , ..., 0.        , 0.        ,\n",
              "        0.        ],\n",
              "       [0.        , 0.        , 0.        , ..., 0.21821789, 0.        ,\n",
              "        0.        ],\n",
              "       ...,\n",
              "       [0.        , 0.        , 0.        , ..., 0.        , 0.        ,\n",
              "        0.33333333],\n",
              "       [0.        , 0.        , 0.        , ..., 0.        , 0.20851441,\n",
              "        0.        ],\n",
              "       [0.        , 0.        , 0.        , ..., 0.        , 0.        ,\n",
              "        0.        ]])"
            ]
          },
          "metadata": {},
          "execution_count": 35
        }
      ]
    },
    {
      "cell_type": "code",
      "source": [
        "from sklearn.feature_extraction.text import TfidfVectorizer\n",
        "cv=TfidfVectorizer(ngram_range=(1,1), max_features=10)\n",
        "X= cv.fit_transform(corpus)"
      ],
      "metadata": {
        "id": "VQRV-N4rW7Gq"
      },
      "execution_count": 40,
      "outputs": []
    },
    {
      "cell_type": "code",
      "source": [
        "X.toarray()"
      ],
      "metadata": {
        "id": "qZFsyDytXBWO",
        "outputId": "152a8b9f-ef30-4d02-99f2-deb657b5a42a",
        "colab": {
          "base_uri": "https://localhost:8080/"
        }
      },
      "execution_count": 41,
      "outputs": [
        {
          "output_type": "execute_result",
          "data": {
            "text/plain": [
              "array([[0.        , 0.        , 0.        , 0.42460939, 0.76666295,\n",
              "        0.38333148, 0.        , 0.29153347, 0.        , 0.        ],\n",
              "       [0.31685021, 0.        , 0.        , 0.31685021, 0.28604798,\n",
              "        0.57209596, 0.        , 0.43509372, 0.31685021, 0.31685021],\n",
              "       [0.33673471, 0.27632214, 0.        , 0.33673471, 0.        ,\n",
              "        0.60799886, 0.33673471, 0.46239881, 0.        , 0.        ],\n",
              "       [0.        , 0.43497403, 0.        , 0.53007281, 0.        ,\n",
              "        0.        , 0.        , 0.72788764, 0.        , 0.        ],\n",
              "       [0.3430605 , 0.28151304, 0.76775578, 0.        , 0.30971027,\n",
              "        0.        , 0.        , 0.        , 0.        , 0.3430605 ],\n",
              "       [0.        , 0.40306675, 0.        , 0.        , 0.        ,\n",
              "        0.        , 0.49118961, 0.33724692, 0.49118961, 0.49118961],\n",
              "       [0.        , 0.        , 0.        , 0.        , 0.        ,\n",
              "        0.79596054, 0.        , 0.60534851, 0.        , 0.        ],\n",
              "       [0.        , 0.56264043, 0.        , 0.        , 0.30949812,\n",
              "        0.        , 0.        , 0.        , 0.68565103, 0.34282551],\n",
              "       [0.        , 0.        , 0.82859588, 0.        , 0.33425297,\n",
              "        0.        , 0.37024601, 0.254208  , 0.        , 0.        ],\n",
              "       [0.24781757, 0.20335736, 0.27730294, 0.        , 0.        ,\n",
              "        0.22372627, 0.24781757, 0.68059837, 0.49563514, 0.        ],\n",
              "       [0.        , 0.        , 0.        , 0.        , 0.        ,\n",
              "        0.        , 0.        , 0.        , 0.        , 0.        ]])"
            ]
          },
          "metadata": {},
          "execution_count": 41
        }
      ]
    }
  ]
}